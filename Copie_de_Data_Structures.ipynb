{
  "nbformat": 4,
  "nbformat_minor": 0,
  "metadata": {
    "colab": {
      "name": "Copie de Data_Structures.ipynb",
      "provenance": [],
      "collapsed_sections": [
        "UaUnNUt7jwci",
        "zQjWKo16j82B",
        "tCbwTRQfmW8u",
        "w64ENlRErI-8",
        "sI6_qyg4Tm_U",
        "IEvi87DTT1PQ",
        "IHMKKS3MSgEH",
        "D4hcFVgu87a4",
        "Xw5Uf3saNBef",
        "-EwEMGCLf2Fc",
        "bTPqQ6d_rycK",
        "z895cMI1wq9N"
      ],
      "include_colab_link": true
    },
    "kernelspec": {
      "name": "python3",
      "display_name": "Python 3"
    }
  },
  "cells": [
    {
      "cell_type": "markdown",
      "metadata": {
        "id": "view-in-github",
        "colab_type": "text"
      },
      "source": [
        "<a href=\"https://colab.research.google.com/github/laro-m/AutomateWithPython/blob/master/Copie_de_Data_Structures.ipynb\" target=\"_parent\"><img src=\"https://colab.research.google.com/assets/colab-badge.svg\" alt=\"Open In Colab\"/></a>"
      ]
    },
    {
      "cell_type": "code",
      "metadata": {
        "id": "JbaAuuRBUIE5",
        "colab": {
          "base_uri": "https://localhost:8080/"
        },
        "outputId": "487abfeb-6fbb-4966-ce92-4d90a3354f84"
      },
      "source": [
        "def incr(x):\n",
        "  x = x + 1     \n",
        "a = 5\n",
        "incr(a)\n",
        "a\n",
        "\n"
      ],
      "execution_count": null,
      "outputs": [
        {
          "output_type": "execute_result",
          "data": {
            "text/plain": [
              "5"
            ]
          },
          "metadata": {
            "tags": []
          },
          "execution_count": 1
        }
      ]
    },
    {
      "cell_type": "code",
      "metadata": {
        "id": "PiArgPM3OwUQ"
      },
      "source": [
        "lol = \"  kjfqs sjf  \"\n",
        "print(dir(lol))\n",
        "print(lol.count(\"s\"))\n"
      ],
      "execution_count": null,
      "outputs": []
    },
    {
      "cell_type": "code",
      "metadata": {
        "id": "MiaODpKUzqtC"
      },
      "source": [
        "print(\"hello world\")"
      ],
      "execution_count": null,
      "outputs": []
    },
    {
      "cell_type": "code",
      "metadata": {
        "id": "xaZnCmplbcD5"
      },
      "source": [
        "arr = []\n",
        "arr.append(15)\n",
        "arr.append(\"Mo7a\")\n",
        "arr.append([33, 20])\n",
        " \n",
        "arr"
      ],
      "execution_count": null,
      "outputs": []
    },
    {
      "cell_type": "code",
      "metadata": {
        "id": "v9hSSz9NeYqs"
      },
      "source": [
        "arr = [35, 62, 45]\n",
        "arr"
      ],
      "execution_count": null,
      "outputs": []
    },
    {
      "cell_type": "code",
      "metadata": {
        "id": "m5s10BzzeICJ",
        "colab": {
          "base_uri": "https://localhost:8080/",
          "height": 35
        },
        "outputId": "df64609a-01a1-4992-f272-f7dc31d70912"
      },
      "source": [
        "list(range(10))"
      ],
      "execution_count": null,
      "outputs": [
        {
          "output_type": "execute_result",
          "data": {
            "text/plain": [
              "[0, 1, 2, 3, 4, 5, 6, 7, 8, 9]"
            ]
          },
          "metadata": {
            "tags": []
          },
          "execution_count": 4
        }
      ]
    },
    {
      "cell_type": "code",
      "metadata": {
        "id": "Jz3KT9gfcVbq",
        "colab": {
          "base_uri": "https://localhost:8080/",
          "height": 35
        },
        "outputId": "3e3bb727-dfe9-4cb9-b6af-132d77975cb6"
      },
      "source": [
        "arr = [[12]] * 5\n",
        "arr"
      ],
      "execution_count": null,
      "outputs": [
        {
          "output_type": "execute_result",
          "data": {
            "text/plain": [
              "[[12], [12], [12], [12], [12]]"
            ]
          },
          "metadata": {
            "tags": []
          },
          "execution_count": 6
        }
      ]
    },
    {
      "cell_type": "code",
      "metadata": {
        "id": "5Vbwl4m_d_OO",
        "colab": {
          "base_uri": "https://localhost:8080/",
          "height": 35
        },
        "outputId": "b5d7b15d-2a95-47e9-a597-9ca4083917a1"
      },
      "source": [
        "['Ahmed', 'Hamza'] + ['Ayoub', 'Omar']"
      ],
      "execution_count": null,
      "outputs": [
        {
          "output_type": "execute_result",
          "data": {
            "text/plain": [
              "['Ahmed', 'Hamza', 'Ayoub', 'Omar']"
            ]
          },
          "metadata": {
            "tags": []
          },
          "execution_count": 6
        }
      ]
    },
    {
      "cell_type": "code",
      "metadata": {
        "id": "HGt6YGqQcnDp"
      },
      "source": [
        "arr = [5, 3 ,10]"
      ],
      "execution_count": null,
      "outputs": []
    },
    {
      "cell_type": "code",
      "metadata": {
        "id": "d53QF4Zmcqfu",
        "colab": {
          "base_uri": "https://localhost:8080/",
          "height": 35
        },
        "outputId": "d82150c4-b6d5-496b-e089-0eb096b930cf"
      },
      "source": [
        "arr.index(3)"
      ],
      "execution_count": null,
      "outputs": [
        {
          "output_type": "execute_result",
          "data": {
            "text/plain": [
              "1"
            ]
          },
          "metadata": {
            "tags": []
          },
          "execution_count": 8
        }
      ]
    },
    {
      "cell_type": "code",
      "metadata": {
        "id": "bTjBWPjVcxnj",
        "colab": {
          "base_uri": "https://localhost:8080/",
          "height": 35
        },
        "outputId": "e1034431-f5c6-44aa-c70d-7d62663c671c"
      },
      "source": [
        "arr.pop()"
      ],
      "execution_count": null,
      "outputs": [
        {
          "output_type": "execute_result",
          "data": {
            "text/plain": [
              "10"
            ]
          },
          "metadata": {
            "tags": []
          },
          "execution_count": 9
        }
      ]
    },
    {
      "cell_type": "code",
      "metadata": {
        "id": "3ixTZP18c0hf",
        "colab": {
          "base_uri": "https://localhost:8080/",
          "height": 35
        },
        "outputId": "b7308d09-89a1-4da4-f57b-296d7eb85653"
      },
      "source": [
        "arr\n"
      ],
      "execution_count": null,
      "outputs": [
        {
          "output_type": "execute_result",
          "data": {
            "text/plain": [
              "[5, 3]"
            ]
          },
          "metadata": {
            "tags": []
          },
          "execution_count": 10
        }
      ]
    },
    {
      "cell_type": "code",
      "metadata": {
        "id": "-0FDMqeec6Sc",
        "colab": {
          "base_uri": "https://localhost:8080/",
          "height": 35
        },
        "outputId": "0d90ab35-7106-45bd-d584-220480c93646"
      },
      "source": [
        "54359430859438 in arr"
      ],
      "execution_count": null,
      "outputs": [
        {
          "output_type": "execute_result",
          "data": {
            "text/plain": [
              "False"
            ]
          },
          "metadata": {
            "tags": []
          },
          "execution_count": 11
        }
      ]
    },
    {
      "cell_type": "markdown",
      "metadata": {
        "id": "byqnz39YerX7"
      },
      "source": [
        "## In-place operation vs creating a new object."
      ]
    },
    {
      "cell_type": "code",
      "metadata": {
        "id": "1tG0lvOYecem",
        "colab": {
          "base_uri": "https://localhost:8080/",
          "height": 35
        },
        "outputId": "16464259-ca20-44c5-a2ab-10466d7d44a0"
      },
      "source": [
        "my_arr = [5, 3, 10, 1]\n",
        "my_arr"
      ],
      "execution_count": null,
      "outputs": [
        {
          "output_type": "execute_result",
          "data": {
            "text/plain": [
              "[5, 3, 10, 1]"
            ]
          },
          "metadata": {
            "tags": []
          },
          "execution_count": 13
        }
      ]
    },
    {
      "cell_type": "code",
      "metadata": {
        "id": "re4oKfoZe__w",
        "colab": {
          "base_uri": "https://localhost:8080/",
          "height": 35
        },
        "outputId": "e1f5033b-3389-4ad2-c690-bf7bb9cb0c0c"
      },
      "source": [
        "sorted_arr = sorted(my_arr)\n",
        "\n",
        "sorted_arr"
      ],
      "execution_count": null,
      "outputs": [
        {
          "output_type": "execute_result",
          "data": {
            "text/plain": [
              "[1, 3, 5, 10]"
            ]
          },
          "metadata": {
            "tags": []
          },
          "execution_count": 14
        }
      ]
    },
    {
      "cell_type": "code",
      "metadata": {
        "id": "GkhI3oZufBZm",
        "colab": {
          "base_uri": "https://localhost:8080/",
          "height": 35
        },
        "outputId": "dacc9f0a-d168-47b0-9f15-441e802d0775"
      },
      "source": [
        "my_arr"
      ],
      "execution_count": null,
      "outputs": [
        {
          "output_type": "execute_result",
          "data": {
            "text/plain": [
              "[5, 3, 10, 1]"
            ]
          },
          "metadata": {
            "tags": []
          },
          "execution_count": 15
        }
      ]
    },
    {
      "cell_type": "code",
      "metadata": {
        "id": "1ROJtaHcfDHJ"
      },
      "source": [
        "my_arr.sort()"
      ],
      "execution_count": null,
      "outputs": []
    },
    {
      "cell_type": "code",
      "metadata": {
        "id": "x2V_8ifTfFKw",
        "colab": {
          "base_uri": "https://localhost:8080/",
          "height": 35
        },
        "outputId": "833ce51c-b3e5-48c4-e2d9-9b52aca52f44"
      },
      "source": [
        "my_arr"
      ],
      "execution_count": null,
      "outputs": [
        {
          "output_type": "execute_result",
          "data": {
            "text/plain": [
              "[1, 3, 5, 10]"
            ]
          },
          "metadata": {
            "tags": []
          },
          "execution_count": 17
        }
      ]
    },
    {
      "cell_type": "markdown",
      "metadata": {
        "id": "1WkABeLQiFIp"
      },
      "source": [
        "## Slicing."
      ]
    },
    {
      "cell_type": "code",
      "metadata": {
        "id": "Mx078CFhyb8C"
      },
      "source": [
        ""
      ],
      "execution_count": null,
      "outputs": []
    },
    {
      "cell_type": "code",
      "metadata": {
        "id": "fHfYAva_yb4e"
      },
      "source": [
        ""
      ],
      "execution_count": null,
      "outputs": []
    },
    {
      "cell_type": "code",
      "metadata": {
        "id": "zjD6O3JaybFz"
      },
      "source": [
        ""
      ],
      "execution_count": null,
      "outputs": []
    },
    {
      "cell_type": "code",
      "metadata": {
        "id": "F7u6jCOdiGiV"
      },
      "source": [
        "my_arr = ['Zero', 'One', 'Two', 'Three', 'Four', 'Five']"
      ],
      "execution_count": null,
      "outputs": []
    },
    {
      "cell_type": "code",
      "metadata": {
        "id": "7Q5yLNeYGAhZ",
        "colab": {
          "base_uri": "https://localhost:8080/",
          "height": 172
        },
        "outputId": "b582515c-7075-48b1-c82e-b7ac75214319"
      },
      "source": [
        "my_arr[-1][2:]"
      ],
      "execution_count": null,
      "outputs": [
        {
          "output_type": "error",
          "ename": "TypeError",
          "evalue": "ignored",
          "traceback": [
            "\u001b[0;31m---------------------------------------------------------------------------\u001b[0m",
            "\u001b[0;31mTypeError\u001b[0m                                 Traceback (most recent call last)",
            "\u001b[0;32m<ipython-input-18-596628ea08e8>\u001b[0m in \u001b[0;36m<module>\u001b[0;34m()\u001b[0m\n\u001b[0;32m----> 1\u001b[0;31m \u001b[0mmy_arr\u001b[0m\u001b[0;34m[\u001b[0m\u001b[0;34m-\u001b[0m\u001b[0;36m1\u001b[0m\u001b[0;34m]\u001b[0m\u001b[0;34m[\u001b[0m\u001b[0;36m2\u001b[0m\u001b[0;34m:\u001b[0m\u001b[0;34m]\u001b[0m\u001b[0;34m\u001b[0m\u001b[0;34m\u001b[0m\u001b[0m\n\u001b[0m",
            "\u001b[0;31mTypeError\u001b[0m: 'int' object is not subscriptable"
          ]
        }
      ]
    },
    {
      "cell_type": "code",
      "metadata": {
        "id": "z5xYyUQeiNGo",
        "colab": {
          "base_uri": "https://localhost:8080/",
          "height": 164
        },
        "outputId": "4d19a675-7e52-4aa1-d27d-e34b80c43225"
      },
      "source": [
        "my_arr[1:4]"
      ],
      "execution_count": null,
      "outputs": [
        {
          "output_type": "error",
          "ename": "NameError",
          "evalue": "ignored",
          "traceback": [
            "\u001b[0;31m---------------------------------------------------------------------------\u001b[0m",
            "\u001b[0;31mNameError\u001b[0m                                 Traceback (most recent call last)",
            "\u001b[0;32m<ipython-input-1-e31e91b91c09>\u001b[0m in \u001b[0;36m<module>\u001b[0;34m()\u001b[0m\n\u001b[0;32m----> 1\u001b[0;31m \u001b[0mmy_arr\u001b[0m\u001b[0;34m[\u001b[0m\u001b[0;36m1\u001b[0m\u001b[0;34m:\u001b[0m\u001b[0;36m4\u001b[0m\u001b[0;34m]\u001b[0m\u001b[0;34m\u001b[0m\u001b[0;34m\u001b[0m\u001b[0m\n\u001b[0m",
            "\u001b[0;31mNameError\u001b[0m: name 'my_arr' is not defined"
          ]
        }
      ]
    },
    {
      "cell_type": "code",
      "metadata": {
        "id": "9CzUycEXiiVd",
        "colab": {
          "base_uri": "https://localhost:8080/",
          "height": 34
        },
        "outputId": "f0b7037d-f3f1-4bc0-d5e7-2d2e883b833d"
      },
      "source": [
        "my_arr[:2]"
      ],
      "execution_count": null,
      "outputs": [
        {
          "output_type": "execute_result",
          "data": {
            "text/plain": [
              "['Zero', 'One']"
            ]
          },
          "metadata": {
            "tags": []
          },
          "execution_count": 4
        }
      ]
    },
    {
      "cell_type": "code",
      "metadata": {
        "id": "-VCVf69hikmm",
        "colab": {
          "base_uri": "https://localhost:8080/",
          "height": 34
        },
        "outputId": "c09a1e20-00c9-4fc9-c34d-e61fc9eb8dbc"
      },
      "source": [
        "my_arr[3:]"
      ],
      "execution_count": null,
      "outputs": [
        {
          "output_type": "execute_result",
          "data": {
            "text/plain": [
              "['Three', 'Four', 'Five']"
            ]
          },
          "metadata": {
            "tags": []
          },
          "execution_count": 5
        }
      ]
    },
    {
      "cell_type": "code",
      "metadata": {
        "id": "gb73W9FninXU",
        "colab": {
          "base_uri": "https://localhost:8080/",
          "height": 34
        },
        "outputId": "ee46ced8-1384-4315-c3b4-8b4ee42de8b6"
      },
      "source": [
        "my_arr[::2]"
      ],
      "execution_count": null,
      "outputs": [
        {
          "output_type": "execute_result",
          "data": {
            "text/plain": [
              "['Zero', 'Two', 'Four']"
            ]
          },
          "metadata": {
            "tags": []
          },
          "execution_count": 6
        }
      ]
    },
    {
      "cell_type": "code",
      "metadata": {
        "id": "bC5CbCiEiqj4",
        "colab": {
          "base_uri": "https://localhost:8080/",
          "height": 34
        },
        "outputId": "78a20aea-5778-4bc9-a41a-1960fa0475e2"
      },
      "source": [
        "      my_arr[4:1:-1]"
      ],
      "execution_count": null,
      "outputs": [
        {
          "output_type": "execute_result",
          "data": {
            "text/plain": [
              "['Four', 'Three', 'Two']"
            ]
          },
          "metadata": {
            "tags": []
          },
          "execution_count": 7
        }
      ]
    },
    {
      "cell_type": "code",
      "metadata": {
        "id": "n_4Ywg07f-YV"
      },
      "source": [
        ""
      ],
      "execution_count": null,
      "outputs": []
    },
    {
      "cell_type": "code",
      "metadata": {
        "id": "PQeS5H3kaXu-",
        "colab": {
          "base_uri": "https://localhost:8080/",
          "height": 72
        },
        "outputId": "dcac52ce-07cf-4d41-e5fd-0e41be920798"
      },
      "source": [
        "def red(string):\n",
        "    array=[]\n",
        "    for j in range(len(string)):\n",
        "      if string[j] in array and j!=0:\n",
        "        continue\n",
        "      array.append(string[j])\n",
        "    return \"\".join(array)\n",
        "def merge_the_tools(string, k):\n",
        "    n=int(len(string)/k)\n",
        "    for i in range(int(k)):\n",
        "      liste=None\n",
        "      liste=red(str(string[i*n:n+i*n]))\n",
        "      print(\"\".join(liste))\n",
        "merge_the_tools(\"DOWTJAHBJKRXASYLDEQQXLQBFHLZXIKAZHVIJCJUMCUOVSZYYQQXBHYIOKINUUPVBKDNOPJARDQMYQMYIDWLMUTCGDPDYGYBQEOETAGMDWBBONAWSWJGSDIBIZGGFEIVKYBFYHSEGTFUIHTBFCHAHQDQRJWXPGUAHYFFFXJNSRKBAFCIJLIRDLJVWHULOOLVORCWQOJJFVKHAOPKBZDFMMAITWUHMHEBAJXRXGCECOLECDODCTKPFKZZGTIVDPWDYTUXZYDDMQKOTAUYUENZROAZKLUNCQQCLNZNLCSYSCOODKMXRBYKPBLZMGMQYDSMSRZDVRDPUSDZERYVSWFIZRHNZUDZZVLROKWJEABYUGZYYXUQVBYVUIITCOVDJIWYVUJZUMZQTYPTVLJQOKLJSWEWKBBVKXTFTFEOTDGMDXFYKRQZDEKVAQTMSUHCTDJMKNCDSJSXIXVTQNUTREQTWJFOFNSYSBNCQPFKAXHJXECNSYJLEZFALKRQZJRRNETFTBQUYZFXGJLAHWLLXQNIDEBCQSWFWPKPSCLRCSOIBBKKZVXXOLFRRIVHARMWJZOBBBSFUJPXMZIMVFJJQQCIZXRBPGYYFMBGPUMJFBJRBRFYWQJPJLZKIQLZYJXDXBMPXYACBJVEADEZTNQCYPMJHAIGLILJJXYGXAKBKFFKIKLEZBGYSVJAXRIIBVTKTTQQUCTEIZQSLCWKDFKYCTAZLIHODBZYURRQUKUELLWWNVJSCTQENQDAAMOGPPEMHVCDIXHTKFQZCZREUKIJCNLFCCLTRRFAPKFXHMQTUISYJLDGVNPADBFHDSAWJGXYQCXZRQUNYMLKXQQVGFVJICQNUQKFYJGQNDREVLTWXHGXXYSDFPOORGDNZNSXYAQMGHSBVMXSTFRSDJYJAMZRTCGSSBRQBHCHRXLMJIGEOYYTJWCKLDBGGKAYLRQOBVYSSJGDTMJHMHDWGFGTLJZRTZRGSHVTCVNWETZXIIHUSKQARYTCISVBTOKLWHFACUXGOYFY{-truncated-}\",3)"
      ],
      "execution_count": null,
      "outputs": [
        {
          "output_type": "stream",
          "text": [
            "DOWTJAHBKRXSYLEQFZIVCUMNPG\n",
            "UDZVLROKWJEABYGXQITCMPSFHN\n",
            "JAXRIBVTKQUCEZSLWDFYHONMGP{-truncaed\n"
          ],
          "name": "stdout"
        }
      ]
    },
    {
      "cell_type": "code",
      "metadata": {
        "id": "OZY49nZcxuuC"
      },
      "source": [
        ""
      ],
      "execution_count": null,
      "outputs": []
    },
    {
      "cell_type": "code",
      "metadata": {
        "id": "uZ_nqVdYDAIF"
      },
      "source": [
        ""
      ],
      "execution_count": null,
      "outputs": []
    },
    {
      "cell_type": "markdown",
      "metadata": {
        "id": "-UTvVOo-Sgnz"
      },
      "source": [
        "# Linked Lists"
      ]
    },
    {
      "cell_type": "markdown",
      "metadata": {
        "id": "LvYXlxp4sYQ3"
      },
      "source": [
        ""
      ]
    },
    {
      "cell_type": "code",
      "metadata": {
        "id": "Xn6ULwEBsYnX"
      },
      "source": [
        ""
      ],
      "execution_count": null,
      "outputs": []
    },
    {
      "cell_type": "code",
      "metadata": {
        "id": "ug_bSiNktAGL"
      },
      "source": [
        ""
      ],
      "execution_count": null,
      "outputs": []
    },
    {
      "cell_type": "code",
      "metadata": {
        "id": "yWwcuEDg-Ltw"
      },
      "source": [
        "from math import radians, sin, cos, asin, sqrt\n",
        "def haversine(lon1, lat1, lon2, lat2):\n",
        "    lon1, lat1, lon2, lat2 = map(radians, [lon1, lat1, lon2, lat2])\n",
        "    dlon = lon2 - lon1\n",
        "    dlat = lat2 - lat1\n",
        "    a = sin(dlat / 2) ** 2 + cos(lat1) * cos(lat2) * sin(dlon / 2) ** 2\n",
        "    return 2 * 6371 * asin(sqrt(a))"
      ],
      "execution_count": null,
      "outputs": []
    },
    {
      "cell_type": "code",
      "metadata": {
        "id": "7YzQj0_JDBYy"
      },
      "source": [
        ""
      ],
      "execution_count": null,
      "outputs": []
    },
    {
      "cell_type": "markdown",
      "metadata": {
        "id": "j54ZPtjtu9P_"
      },
      "source": [
        "bold text## Implementation"
      ]
    },
    {
      "cell_type": "code",
      "metadata": {
        "id": "LJuK53BDSiSO"
      },
      "source": [
        "\n",
        "\n",
        "    return \" -> \".join(s)+' -> None'\n",
        "node1 = Node(\"zz\")\n",
        "node2 = Node(\"aa\")\n",
        "node3 = Node(\"dd\")\n",
        "node1.insert_after(node2)\n",
        "node2.insert_after(node3)\n",
        "ll = LinkedList(node1)\n",
        "\n",
        "\n",
        "ll.__str__()"
      ],
      "execution_count": null,
      "outputs": []
    },
    {
      "cell_type": "code",
      "metadata": {
        "id": "PtM57XJCrMr_",
        "colab": {
          "base_uri": "https://localhost:8080/",
          "height": 231
        },
        "outputId": "e0695837-0731-413f-ecad-76fae59318e8"
      },
      "source": [
        "node1 = Node(\"zz\")\n",
        "node2 = Node(\"aa\")\n",
        "node3 = Node(\"dd\")\n",
        "node1.insert_after(node2)\n",
        "node2.insert_after(node3)\n",
        "node2.delete_self()\n",
        "ll = LinkedList(node1)\n",
        "ll.__str__()"
      ],
      "execution_count": null,
      "outputs": [
        {
          "output_type": "error",
          "ename": "NameError",
          "evalue": "ignored",
          "traceback": [
            "\u001b[0;31m---------------------------------------------------------------------------\u001b[0m",
            "\u001b[0;31mNameError\u001b[0m                                 Traceback (most recent call last)",
            "\u001b[0;32m<ipython-input-1-f6af8bfa27bc>\u001b[0m in \u001b[0;36m<module>\u001b[0;34m()\u001b[0m\n\u001b[0;32m----> 1\u001b[0;31m \u001b[0mnode1\u001b[0m \u001b[0;34m=\u001b[0m \u001b[0mNode\u001b[0m\u001b[0;34m(\u001b[0m\u001b[0;34m\"zz\"\u001b[0m\u001b[0;34m)\u001b[0m\u001b[0;34m\u001b[0m\u001b[0;34m\u001b[0m\u001b[0m\n\u001b[0m\u001b[1;32m      2\u001b[0m \u001b[0mnode2\u001b[0m \u001b[0;34m=\u001b[0m \u001b[0mNode\u001b[0m\u001b[0;34m(\u001b[0m\u001b[0;34m\"aa\"\u001b[0m\u001b[0;34m)\u001b[0m\u001b[0;34m\u001b[0m\u001b[0;34m\u001b[0m\u001b[0m\n\u001b[1;32m      3\u001b[0m \u001b[0mnode3\u001b[0m \u001b[0;34m=\u001b[0m \u001b[0mNode\u001b[0m\u001b[0;34m(\u001b[0m\u001b[0;34m\"dd\"\u001b[0m\u001b[0;34m)\u001b[0m\u001b[0;34m\u001b[0m\u001b[0;34m\u001b[0m\u001b[0m\n\u001b[1;32m      4\u001b[0m \u001b[0mnode1\u001b[0m\u001b[0;34m.\u001b[0m\u001b[0minsert_after\u001b[0m\u001b[0;34m(\u001b[0m\u001b[0mnode2\u001b[0m\u001b[0;34m)\u001b[0m\u001b[0;34m\u001b[0m\u001b[0;34m\u001b[0m\u001b[0m\n\u001b[1;32m      5\u001b[0m \u001b[0mnode2\u001b[0m\u001b[0;34m.\u001b[0m\u001b[0minsert_after\u001b[0m\u001b[0;34m(\u001b[0m\u001b[0mnode3\u001b[0m\u001b[0;34m)\u001b[0m\u001b[0;34m\u001b[0m\u001b[0;34m\u001b[0m\u001b[0m\n",
            "\u001b[0;31mNameError\u001b[0m: name 'Node' is not defined"
          ]
        }
      ]
    },
    {
      "cell_type": "markdown",
      "metadata": {
        "id": "LUtkRNr5rNX2"
      },
      "source": [
        "ygyg\n"
      ]
    },
    {
      "cell_type": "code",
      "metadata": {
        "id": "ws0DfSZCr93o",
        "colab": {
          "base_uri": "https://localhost:8080/",
          "height": 214
        },
        "outputId": "dede033c-8c0b-4f36-8fea-2ba88ee2a432"
      },
      "source": [
        "llist=LinkedList\n",
        "l=[1,2,3,4]\n",
        "llist=llist.from_list(l)\n",
        "print(llist.get(2))"
      ],
      "execution_count": null,
      "outputs": [
        {
          "output_type": "error",
          "ename": "NameError",
          "evalue": "ignored",
          "traceback": [
            "\u001b[0;31m---------------------------------------------------------------------------\u001b[0m",
            "\u001b[0;31mNameError\u001b[0m                                 Traceback (most recent call last)",
            "\u001b[0;32m<ipython-input-1-a904b3870487>\u001b[0m in \u001b[0;36m<module>\u001b[0;34m()\u001b[0m\n\u001b[0;32m----> 1\u001b[0;31m \u001b[0mllist\u001b[0m\u001b[0;34m=\u001b[0m\u001b[0mLinkedList\u001b[0m\u001b[0;34m\u001b[0m\u001b[0;34m\u001b[0m\u001b[0m\n\u001b[0m\u001b[1;32m      2\u001b[0m \u001b[0ml\u001b[0m\u001b[0;34m=\u001b[0m\u001b[0;34m[\u001b[0m\u001b[0;36m1\u001b[0m\u001b[0;34m,\u001b[0m\u001b[0;36m2\u001b[0m\u001b[0;34m,\u001b[0m\u001b[0;36m3\u001b[0m\u001b[0;34m,\u001b[0m\u001b[0;36m4\u001b[0m\u001b[0;34m]\u001b[0m\u001b[0;34m\u001b[0m\u001b[0;34m\u001b[0m\u001b[0m\n\u001b[1;32m      3\u001b[0m \u001b[0mllist\u001b[0m\u001b[0;34m=\u001b[0m\u001b[0mllist\u001b[0m\u001b[0;34m.\u001b[0m\u001b[0mfrom_list\u001b[0m\u001b[0;34m(\u001b[0m\u001b[0ml\u001b[0m\u001b[0;34m)\u001b[0m\u001b[0;34m\u001b[0m\u001b[0;34m\u001b[0m\u001b[0m\n\u001b[1;32m      4\u001b[0m \u001b[0mprint\u001b[0m\u001b[0;34m(\u001b[0m\u001b[0mllist\u001b[0m\u001b[0;34m.\u001b[0m\u001b[0mget\u001b[0m\u001b[0;34m(\u001b[0m\u001b[0;36m2\u001b[0m\u001b[0;34m)\u001b[0m\u001b[0;34m)\u001b[0m\u001b[0;34m\u001b[0m\u001b[0;34m\u001b[0m\u001b[0m\n",
            "\u001b[0;31mNameError\u001b[0m: name 'LinkedList' is not defined"
          ]
        }
      ]
    },
    {
      "cell_type": "markdown",
      "metadata": {
        "id": "mGvIJge84TSo"
      },
      "source": [
        "## Ecrire une fonction qui renvoie le nombre d’éléments d’une liste chaînée."
      ]
    },
    {
      "cell_type": "code",
      "metadata": {
        "id": "HOBcU8oJ4SyT",
        "colab": {
          "base_uri": "https://localhost:8080/",
          "height": 185
        },
        "outputId": "9122448c-da80-44c3-a558-9f8d3d2fa0cb"
      },
      "source": [
        "l1=linkedlist.from_list([1,2,3,4,5])\n",
        "print(l1)"
      ],
      "execution_count": null,
      "outputs": [
        {
          "output_type": "error",
          "ename": "NameError",
          "evalue": "ignored",
          "traceback": [
            "\u001b[0;31m---------------------------------------------------------------------------\u001b[0m",
            "\u001b[0;31mNameError\u001b[0m                                 Traceback (most recent call last)",
            "\u001b[0;32m<ipython-input-3-210ae2dbc7a5>\u001b[0m in \u001b[0;36m<module>\u001b[0;34m()\u001b[0m\n\u001b[0;32m----> 1\u001b[0;31m \u001b[0ml1\u001b[0m\u001b[0;34m=\u001b[0m\u001b[0mlinkedlist\u001b[0m\u001b[0;34m.\u001b[0m\u001b[0mfrom_list\u001b[0m\u001b[0;34m(\u001b[0m\u001b[0;34m[\u001b[0m\u001b[0;36m1\u001b[0m\u001b[0;34m,\u001b[0m\u001b[0;36m2\u001b[0m\u001b[0;34m,\u001b[0m\u001b[0;36m3\u001b[0m\u001b[0;34m,\u001b[0m\u001b[0;36m4\u001b[0m\u001b[0;34m,\u001b[0m\u001b[0;36m5\u001b[0m\u001b[0;34m]\u001b[0m\u001b[0;34m)\u001b[0m\u001b[0;34m\u001b[0m\u001b[0;34m\u001b[0m\u001b[0m\n\u001b[0m\u001b[1;32m      2\u001b[0m \u001b[0mprint\u001b[0m\u001b[0;34m(\u001b[0m\u001b[0ml1\u001b[0m\u001b[0;34m)\u001b[0m\u001b[0;34m\u001b[0m\u001b[0;34m\u001b[0m\u001b[0m\n",
            "\u001b[0;31mNameError\u001b[0m: name 'linkedlist' is not defined"
          ]
        }
      ]
    },
    {
      "cell_type": "markdown",
      "metadata": {
        "id": "q2K6Kwm_6NvK"
      },
      "source": [
        "### Ecrire une fonction qui renvoie le nombre d’éléments d’une \n",
        "\n",
        "*   Élément de liste\n",
        "\n",
        "*   Élément de liste\n",
        "*   Élément de liste\n",
        "\n",
        "\n",
        "*   Élément de liste\n",
        "\n",
        "liste chaînée ayant une valeur donnée"
      ]
    },
    {
      "cell_type": "code",
      "metadata": {
        "id": "5gOPgti36Z0d",
        "colab": {
          "base_uri": "https://localhost:8080/",
          "height": 68
        },
        "outputId": "5fefb363-19da-4559-ad36-231f4b8d3551"
      },
      "source": [
        "c\n",
        " \n",
        "    return \" -> \".join(s)+' -> None'\n",
        "node1 = Node(\"zz\")\n",
        "node2 = Node(\"aa\")\n",
        "node3 = Node(\"dd\")\n",
        "node1.insert_after(node2)\n",
        "node2.insert_after(node3)\n",
        "ll = LinkedList(node1)\n",
        "\n",
        "\n",
        "ll.__str__()"
      ],
      "execution_count": null,
      "outputs": [
        {
          "output_type": "stream",
          "text": [
            "3\n",
            "1\n",
            "0\n"
          ],
          "name": "stdout"
        }
      ]
    },
    {
      "cell_type": "markdown",
      "metadata": {
        "id": "XcvJjmBE6azF"
      },
      "source": [
        "![alt text](https://)## Ecrire une fonction qui vérifie si une liste chaînée est triée par valeurs croissantes"
      ]
    },
    {
      "cell_type": "code",
      "metadata": {
        "id": "HBFn_NeZ6gaP"
      },
      "source": [
        "def ll_is_sorted(ll):\n",
        "  if ll.head is None:     \n",
        "    return True\n",
        "  N = ll.head\n",
        "  lastValue = N.data\n",
        "  N = N.next\n",
        "  while N:\n",
        "    if N.data < lastValue:\n",
        "      return False\n",
        "    lastValue = N.data\n",
        "    N = N.next\n",
        "    \n",
        "  return True\n",
        "\n",
        "# Test\n",
        "assert ll_is_sorted(LinkedList()) == True\n",
        "assert ll_is_sorted(LinkedList.from_list([1])) == True\n",
        "assert ll_is_sorted(LinkedList.from_list([1, 3, 2])) == False\n",
        "assert ll_is_sorted(LinkedList.from_list(range(10))) == True"
      ],
      "execution_count": null,
      "outputs": []
    },
    {
      "cell_type": "markdown",
      "metadata": {
        "id": "729p6YL4ZwV8"
      },
      "source": [
        "## Create a Linked List from an array"
      ]
    },
    {
      "cell_type": "code",
      "metadata": {
        "id": "UmMME7R-swro"
      },
      "source": [
        ""
      ],
      "execution_count": null,
      "outputs": []
    },
    {
      "cell_type": "markdown",
      "metadata": {
        "id": "UaUnNUt7jwci"
      },
      "source": [
        "## Search in a List"
      ]
    },
    {
      "cell_type": "code",
      "metadata": {
        "id": "ZXPfuvyXjtR-",
        "colab": {
          "base_uri": "https://localhost:8080/",
          "height": 163
        },
        "outputId": "80932896-9fc8-401c-bc10-7b81ef56f67e"
      },
      "source": [
        "print(L1.Next)"
      ],
      "execution_count": null,
      "outputs": [
        {
          "output_type": "error",
          "ename": "AttributeError",
          "evalue": "ignored",
          "traceback": [
            "\u001b[0;31m---------------------------------------------------------------------------\u001b[0m",
            "\u001b[0;31mAttributeError\u001b[0m                            Traceback (most recent call last)",
            "\u001b[0;32m<ipython-input-24-7348108a514e>\u001b[0m in \u001b[0;36m<module>\u001b[0;34m()\u001b[0m\n\u001b[0;32m----> 1\u001b[0;31m \u001b[0mprint\u001b[0m\u001b[0;34m(\u001b[0m\u001b[0mL1\u001b[0m\u001b[0;34m.\u001b[0m\u001b[0mNext\u001b[0m\u001b[0;34m)\u001b[0m\u001b[0;34m\u001b[0m\u001b[0;34m\u001b[0m\u001b[0m\n\u001b[0m",
            "\u001b[0;31mAttributeError\u001b[0m: 'Node' object has no attribute 'Next'"
          ]
        }
      ]
    },
    {
      "cell_type": "code",
      "metadata": {
        "id": "MR70FewLj3Mc",
        "colab": {
          "base_uri": "https://localhost:8080/",
          "height": 34
        },
        "outputId": "f45f38aa-f76b-41c2-9fcb-eef6ee6ed1c8"
      },
      "source": [
        "print(L1.search_key(4))"
      ],
      "execution_count": null,
      "outputs": [
        {
          "output_type": "stream",
          "text": [
            "4\n"
          ],
          "name": "stdout"
        }
      ]
    },
    {
      "cell_type": "code",
      "metadata": {
        "id": "qlR3yzqdwUNk"
      },
      "source": [
        "def l1_size(l1):\n",
        "  N = l1.head\n",
        "  "
      ],
      "execution_count": null,
      "outputs": []
    },
    {
      "cell_type": "markdown",
      "metadata": {
        "id": "zQjWKo16j82B"
      },
      "source": [
        "## Get kth element"
      ]
    },
    {
      "cell_type": "code",
      "metadata": {
        "id": "ujoRJ4g8j7Gg",
        "colab": {
          "base_uri": "https://localhost:8080/",
          "height": 214
        },
        "outputId": "333cac96-bcff-4822-f240-69f2eb4e188d"
      },
      "source": [
        "L1 = LinkedList.from_list([1, 2, 3, 4, 5])\n",
        "print(L1.get(0))\n",
        "print(L1.get(1))\n",
        "print(L1.get(10))"
      ],
      "execution_count": null,
      "outputs": [
        {
          "output_type": "error",
          "ename": "NameError",
          "evalue": "ignored",
          "traceback": [
            "\u001b[0;31m---------------------------------------------------------------------------\u001b[0m",
            "\u001b[0;31mNameError\u001b[0m                                 Traceback (most recent call last)",
            "\u001b[0;32m<ipython-input-2-39678a0d8d0a>\u001b[0m in \u001b[0;36m<module>\u001b[0;34m()\u001b[0m\n\u001b[0;32m----> 1\u001b[0;31m \u001b[0mL1\u001b[0m \u001b[0;34m=\u001b[0m \u001b[0mLinkedList\u001b[0m\u001b[0;34m.\u001b[0m\u001b[0mfrom_list\u001b[0m\u001b[0;34m(\u001b[0m\u001b[0;34m[\u001b[0m\u001b[0;36m1\u001b[0m\u001b[0;34m,\u001b[0m \u001b[0;36m2\u001b[0m\u001b[0;34m,\u001b[0m \u001b[0;36m3\u001b[0m\u001b[0;34m,\u001b[0m \u001b[0;36m4\u001b[0m\u001b[0;34m,\u001b[0m \u001b[0;36m5\u001b[0m\u001b[0;34m]\u001b[0m\u001b[0;34m)\u001b[0m\u001b[0;34m\u001b[0m\u001b[0;34m\u001b[0m\u001b[0m\n\u001b[0m\u001b[1;32m      2\u001b[0m \u001b[0mprint\u001b[0m\u001b[0;34m(\u001b[0m\u001b[0mL1\u001b[0m\u001b[0;34m.\u001b[0m\u001b[0mget\u001b[0m\u001b[0;34m(\u001b[0m\u001b[0;36m0\u001b[0m\u001b[0;34m)\u001b[0m\u001b[0;34m)\u001b[0m\u001b[0;34m\u001b[0m\u001b[0;34m\u001b[0m\u001b[0m\n\u001b[1;32m      3\u001b[0m \u001b[0mprint\u001b[0m\u001b[0;34m(\u001b[0m\u001b[0mL1\u001b[0m\u001b[0;34m.\u001b[0m\u001b[0mget\u001b[0m\u001b[0;34m(\u001b[0m\u001b[0;36m1\u001b[0m\u001b[0;34m)\u001b[0m\u001b[0;34m)\u001b[0m\u001b[0;34m\u001b[0m\u001b[0;34m\u001b[0m\u001b[0m\n\u001b[1;32m      4\u001b[0m \u001b[0mprint\u001b[0m\u001b[0;34m(\u001b[0m\u001b[0mL1\u001b[0m\u001b[0;34m.\u001b[0m\u001b[0mget\u001b[0m\u001b[0;34m(\u001b[0m\u001b[0;36m10\u001b[0m\u001b[0;34m)\u001b[0m\u001b[0;34m)\u001b[0m\u001b[0;34m\u001b[0m\u001b[0;34m\u001b[0m\u001b[0m\n",
            "\u001b[0;31mNameError\u001b[0m: name 'LinkedList' is not defined"
          ]
        }
      ]
    },
    {
      "cell_type": "markdown",
      "metadata": {
        "id": "tCbwTRQfmW8u"
      },
      "source": [
        "## Insert at index"
      ]
    },
    {
      "cell_type": "code",
      "metadata": {
        "id": "5k0WY1oyk-hl",
        "colab": {
          "base_uri": "https://localhost:8080/",
          "height": 51
        },
        "outputId": "39bb1be5-9603-4d10-bd2c-0f9dad35f40b"
      },
      "source": [
        "L1 = LinkedList.from_list([1, 2, 3, 4, 5])\n",
        "L1.insert(0, 2)\n",
        "print(L1)\n",
        "L1.insert(6, 6)\n",
        "print(L1)"
      ],
      "execution_count": null,
      "outputs": [
        {
          "output_type": "stream",
          "text": [
            "2 -> 1 -> 3 -> 4 -> 5\n",
            "2 -> 1 -> 3 -> 4 -> 5 -> 6\n"
          ],
          "name": "stdout"
        }
      ]
    },
    {
      "cell_type": "code",
      "metadata": {
        "id": "_F14WZqRlOeZ",
        "colab": {
          "base_uri": "https://localhost:8080/",
          "height": 34
        },
        "outputId": "be4c265e-55a9-486d-e7aa-4f9aa4232c66"
      },
      "source": [
        "L1.insert(7, 9)\n",
        "print(L1)"
      ],
      "execution_count": null,
      "outputs": [
        {
          "output_type": "stream",
          "text": [
            "2 -> 1 -> 3 -> 4 -> 5 -> 6 -> 9\n"
          ],
          "name": "stdout"
        }
      ]
    },
    {
      "cell_type": "markdown",
      "metadata": {
        "id": "w64ENlRErI-8"
      },
      "source": [
        "## Delete node at index"
      ]
    },
    {
      "cell_type": "code",
      "metadata": {
        "id": "IeySVim6oYCr",
        "colab": {
          "base_uri": "https://localhost:8080/",
          "height": 195
        },
        "outputId": "00a2038c-f3e9-4345-eea8-7a5391813955"
      },
      "source": [
        "L1 = LinkedList.from_list([0, 6, 2, 9])\n",
        "L1.delete(1)\n",
        "print(L1)"
      ],
      "execution_count": null,
      "outputs": [
        {
          "output_type": "error",
          "ename": "NameError",
          "evalue": "ignored",
          "traceback": [
            "\u001b[0;31m---------------------------------------------------------------------------\u001b[0m",
            "\u001b[0;31mNameError\u001b[0m                                 Traceback (most recent call last)",
            "\u001b[0;32m<ipython-input-1-838c92c9327c>\u001b[0m in \u001b[0;36m<module>\u001b[0;34m()\u001b[0m\n\u001b[0;32m----> 1\u001b[0;31m \u001b[0mL1\u001b[0m \u001b[0;34m=\u001b[0m \u001b[0mLinkedList\u001b[0m\u001b[0;34m.\u001b[0m\u001b[0mfrom_list\u001b[0m\u001b[0;34m(\u001b[0m\u001b[0;34m[\u001b[0m\u001b[0;36m0\u001b[0m\u001b[0;34m,\u001b[0m \u001b[0;36m6\u001b[0m\u001b[0;34m,\u001b[0m \u001b[0;36m2\u001b[0m\u001b[0;34m,\u001b[0m \u001b[0;36m9\u001b[0m\u001b[0;34m]\u001b[0m\u001b[0;34m)\u001b[0m\u001b[0;34m\u001b[0m\u001b[0;34m\u001b[0m\u001b[0m\n\u001b[0m\u001b[1;32m      2\u001b[0m \u001b[0mL1\u001b[0m\u001b[0;34m.\u001b[0m\u001b[0mdelete\u001b[0m\u001b[0;34m(\u001b[0m\u001b[0;36m1\u001b[0m\u001b[0;34m)\u001b[0m\u001b[0;34m\u001b[0m\u001b[0;34m\u001b[0m\u001b[0m\n\u001b[1;32m      3\u001b[0m \u001b[0mprint\u001b[0m\u001b[0;34m(\u001b[0m\u001b[0mL1\u001b[0m\u001b[0;34m)\u001b[0m\u001b[0;34m\u001b[0m\u001b[0;34m\u001b[0m\u001b[0m\n",
            "\u001b[0;31mNameError\u001b[0m: name 'LinkedList' is not defined"
          ]
        }
      ]
    },
    {
      "cell_type": "code",
      "metadata": {
        "id": "o7PIJr74rQTX",
        "colab": {
          "base_uri": "https://localhost:8080/",
          "height": 34
        },
        "outputId": "410be7bc-af11-4f66-9cb6-17e25dc99653"
      },
      "source": [
        "L1 = LinkedList.from_list([0, 1, 2, 3])\n",
        "L1.delete(1)\n",
        "print(L1)"
      ],
      "execution_count": null,
      "outputs": [
        {
          "output_type": "stream",
          "text": [
            "0 -> 3\n"
          ],
          "name": "stdout"
        }
      ]
    },
    {
      "cell_type": "code",
      "metadata": {
        "id": "CjXEa6yZPuz_",
        "colab": {
          "base_uri": "https://localhost:8080/",
          "height": 187
        },
        "outputId": "aabce66a-55e2-4912-d8fd-153e22533c0f"
      },
      "source": [
        "def number(l):\n",
        "    # Good Luck!\n",
        "    sum1 = 0\n",
        "    sum2 = 0\n",
        "    print(\"sum1\")\n",
        "    for i in range(len(l)):\n",
        "        sum1 += l[i][0]\n",
        "        print(sum1)\n",
        "    print(\"sum2\")\n",
        "    for j in range(len(l)):\n",
        "        sum2 += l[i][1]\n",
        "        print(sum2)\n",
        "    print(\"This is sum1\",sum1)\n",
        "    print(\"This is sum2\",sum2)\n",
        "    #return sum1 - sum2\n",
        "number([[10,0],[3,5],[5,8]])"
      ],
      "execution_count": null,
      "outputs": [
        {
          "output_type": "stream",
          "text": [
            "sum1\n",
            "10\n",
            "13\n",
            "18\n",
            "sum2\n",
            "8\n",
            "16\n",
            "24\n",
            "This is sum1 18\n",
            "This is sum2 24\n"
          ],
          "name": "stdout"
        }
      ]
    },
    {
      "cell_type": "code",
      "metadata": {
        "id": "yMnXh6QvrTw_",
        "colab": {
          "base_uri": "https://localhost:8080/",
          "height": 34
        },
        "outputId": "c9f8c349-ec21-4076-cb33-269e0d72cfb1"
      },
      "source": [
        "L1 = LinkedList.from_list([0, 1, 2, 3])\n",
        "L1.delete(3)\n",
        "print(L1)"
      ],
      "execution_count": null,
      "outputs": [
        {
          "output_type": "stream",
          "text": [
            "0 -> 2 -> 3\n"
          ],
          "name": "stdout"
        }
      ]
    },
    {
      "cell_type": "code",
      "metadata": {
        "id": "AKHOLx13rVnB",
        "colab": {
          "base_uri": "https://localhost:8080/",
          "height": 34
        },
        "outputId": "d86b7ec1-bf39-4460-870d-19c120058338"
      },
      "source": [
        "L1 = LinkedList.from_list([0, 1, 2, 3])\n",
        "L1.delete(1)\n",
        "print(L1)"
      ],
      "execution_count": null,
      "outputs": [
        {
          "output_type": "stream",
          "text": [
            "0 -> 3\n"
          ],
          "name": "stdout"
        }
      ]
    },
    {
      "cell_type": "code",
      "metadata": {
        "id": "OTssu1qQrZdV"
      },
      "source": [
        ""
      ],
      "execution_count": null,
      "outputs": []
    },
    {
      "cell_type": "code",
      "metadata": {
        "id": "XiX9LJQ6hK7a"
      },
      "source": [
        ""
      ],
      "execution_count": null,
      "outputs": []
    },
    {
      "cell_type": "markdown",
      "metadata": {
        "id": "2P4NehoN8flp"
      },
      "source": [
        "**texte en gras**# Stacks"
      ]
    },
    {
      "cell_type": "markdown",
      "metadata": {
        "id": "sI6_qyg4Tm_U"
      },
      "source": [
        "### reference implementation"
      ]
    },
    {
      "cell_type": "code",
      "metadata": {
        "id": "hS05dyvO8gvo"
      },
      "source": [
        "class Stack:\n",
        "  def __init__(self, capacity=20):\n",
        "    self._top = -1\n",
        "    self._capacity = capacity\n",
        "    self._data = [None] * capacity\n",
        " \n",
        " \n",
        "  def push(self, elem):\n",
        "    \"\"\"Push elem on top of stack.\n",
        "    Returns: True if successful, False otherwise.\n",
        "    \"\"\"\n",
        "    if self.is_full():\n",
        "      print(\"Can't push, stack is full!\")\n",
        "      return\n",
        " \n",
        "    self._top = self._top + 1    \n",
        "    self._data[self._top] = elem\n",
        " \n",
        " \n",
        "  def pop(self):\n",
        "    \"\"\"Pop elem from top of the stack.\n",
        "      Returns: True if successful, False otherwise.\"\"\"\n",
        "    if self.is_empty():\n",
        "      print(\"Can't pop, stack is empty!\")\n",
        "      return\n",
        " \n",
        "    popped_elem = self.peek()\n",
        "    self._top = self._top - 1\n",
        "    return popped_elem\n",
        " \n",
        " \n",
        "  def peek(self):\n",
        "    \"\"\"Returns element at top.\n",
        "    Returns None if stack is empty.\"\"\"\n",
        "    if self.is_empty() == -1:\n",
        "      return None\n",
        " \n",
        "    return self._data[self._top]\n",
        " \n",
        " \n",
        "  def is_empty(self):\n",
        "    return self._top == -1\n",
        "  \n",
        "  def is_full(self):\n",
        "    return self._top + 1 == self._capacity"
      ],
      "execution_count": null,
      "outputs": []
    },
    {
      "cell_type": "code",
      "metadata": {
        "id": "QVZT3ljUinEB"
      },
      "source": [
        ""
      ],
      "execution_count": null,
      "outputs": []
    },
    {
      "cell_type": "code",
      "metadata": {
        "id": "OkuM9nidryIW"
      },
      "source": [
        ""
      ],
      "execution_count": null,
      "outputs": []
    },
    {
      "cell_type": "code",
      "metadata": {
        "id": "X-e8v6QiB79q"
      },
      "source": [
        "l=Stack(5)"
      ],
      "execution_count": null,
      "outputs": []
    },
    {
      "cell_type": "code",
      "metadata": {
        "id": "t5Nw6Ce0r2jx",
        "colab": {
          "base_uri": "https://localhost:8080/",
          "height": 34
        },
        "outputId": "77dbcd22-07bf-477d-b19c-7aec7e39a989"
      },
      "source": [
        "l"
      ],
      "execution_count": null,
      "outputs": [
        {
          "output_type": "execute_result",
          "data": {
            "text/plain": [
              "<__main__.Stack at 0x7f49504d1c50>"
            ]
          },
          "metadata": {
            "tags": []
          },
          "execution_count": 5
        }
      ]
    },
    {
      "cell_type": "code",
      "metadata": {
        "id": "PwQd1dSmr4fG"
      },
      "source": [
        ""
      ],
      "execution_count": null,
      "outputs": []
    },
    {
      "cell_type": "code",
      "metadata": {
        "id": "dA_ymZzIrzaT"
      },
      "source": [
        ""
      ],
      "execution_count": null,
      "outputs": []
    },
    {
      "cell_type": "code",
      "metadata": {
        "id": "ZKKgclXJB8FV"
      },
      "source": [
        ""
      ],
      "execution_count": null,
      "outputs": []
    },
    {
      "cell_type": "markdown",
      "metadata": {
        "id": "IEvi87DTT1PQ"
      },
      "source": [
        "### Live implementation"
      ]
    },
    {
      "cell_type": "code",
      "metadata": {
        "id": "ZxwpEE_pT29U"
      },
      "source": [
        "class Stack:\n",
        "  def __init__(self, capacity):\n",
        "    self.capacity = capacity\n",
        "    self.data = [None]*capacity\n",
        "    self.top = -1\n",
        "  \n",
        "  def is_full(self):\n",
        "    return self.top == self.capacity - 1\n",
        "  \n",
        "  def is_empty(self):\n",
        "    return self.top == -1\n",
        " \n",
        "  def push(self, element):\n",
        "    if self.is_full():\n",
        "      print(\"Stack full. Can't push.\")\n",
        "      return None\n",
        "    \n",
        "    self.top = self.top + 1\n",
        "    self.data[self.top] = element\n",
        " \n",
        "  def pop(self):\n",
        "    if self.is_empty():\n",
        "      print(\"Stack empty. Can't pop.\")\n",
        "      return None  \n",
        " \n",
        "    to_pop = self.data[self.top]\n",
        "    self.top = self.top - 1\n",
        "    return to_pop\n",
        "  \n",
        "  def peek(self):\n",
        "    if self.is_empty():\n",
        "      print(\"Stack empty. Can't peek.\")\n",
        "      return None \n",
        "    \n",
        "    return self.data[self.top]"
      ],
      "execution_count": null,
      "outputs": []
    },
    {
      "cell_type": "code",
      "metadata": {
        "id": "jdviWpPPRZ3Y"
      },
      "source": [
        "s = Stack(capacity=3)\n",
        "s.push(1)\n",
        "s.push(2)\n",
        "s.push(3)\n",
        "s.pop()\n",
        "s.pop()\n",
        "s.pop()\n",
        "s.pop()\n",
        "print(s.data)"
      ],
      "execution_count": null,
      "outputs": []
    },
    {
      "cell_type": "markdown",
      "metadata": {
        "id": "IHMKKS3MSgEH"
      },
      "source": [
        "## Test"
      ]
    },
    {
      "cell_type": "code",
      "metadata": {
        "id": "Qcgt0V-0sLTs"
      },
      "source": [
        ""
      ],
      "execution_count": null,
      "outputs": []
    },
    {
      "cell_type": "code",
      "metadata": {
        "id": "DPwRDh863b5P"
      },
      "source": [
        ""
      ],
      "execution_count": null,
      "outputs": []
    },
    {
      "cell_type": "code",
      "metadata": {
        "id": "tReOAH4_3iIg"
      },
      "source": [
        ""
      ],
      "execution_count": null,
      "outputs": []
    },
    {
      "cell_type": "code",
      "metadata": {
        "id": "EpiI_qO1qm7M"
      },
      "source": [
        "expr = \"(((a + b) * (c + d))\"\n",
        "\n",
        "def is_balanced(expr):\n",
        "  s = Stack(capacity=len(expr))\n",
        "  for char in expr:\n",
        "    if char == \"(\":\n",
        "      s.push(char)\n",
        "    elif char == \")\":\n",
        "     if s.is_empty():\n",
        "        return False\n",
        "      \n",
        "     s.pop()\n",
        "  \n",
        "  return s.is_empty()"
      ],
      "execution_count": null,
      "outputs": []
    },
    {
      "cell_type": "code",
      "metadata": {
        "id": "E4bGLOEPsm7e"
      },
      "source": [
        "is_balanced(\"ayoub\")"
      ],
      "execution_count": null,
      "outputs": []
    },
    {
      "cell_type": "markdown",
      "metadata": {
        "id": "D4hcFVgu87a4"
      },
      "source": [
        "## Min Stack"
      ]
    },
    {
      "cell_type": "code",
      "metadata": {
        "id": "2oL7xIws84Nk",
        "colab": {
          "base_uri": "https://localhost:8080/",
          "height": 34
        },
        "outputId": "99c94f39-e237-4a0a-f33e-ac6680ad091a"
      },
      "source": [
        "''' Design a stack that supports push, pop, top, and retrieving the minimum element in constant time.\n",
        "push(x) -- Push element x onto stack.\n",
        "pop() -- Removes the element on top of the stack.\n",
        "top() -- Get the top element.\n",
        "getMin() -- Retrieve the minimum element in the stack.\n",
        "'''\n",
        "class MinStack:\n",
        "  def __init__(self):\n",
        "    self.data = []\n",
        "  \n",
        "  def push(self, x):\n",
        "    if len(self.data) == 0:\n",
        "      self.data.append( {x, x} )\n",
        "    else:\n",
        "      m = self.data[-1]\n",
        "      self.data.append( (x, min(x, m) ) )\n",
        "      return\n",
        "  \n",
        "  def pop(self):\n",
        "   if len(self.data) == 0:\n",
        "      print(\"Can't pop, stack is empty!\")\n",
        "      return\n",
        "    # Continue here when the stack is not empty\n",
        "    self.data.pop()\n",
        "  \n",
        "  def top(self):\n",
        "    if len(self.data) == 0:\n",
        "      print(\"Stack is empty!\")\n",
        "      return\n",
        "    # Continue here when the stack is not empty\n",
        "    return self.data[-1][0]\n",
        "\n",
        "  def getMin(self):\n",
        "    if not self.data:\n",
        "      print(\"Stack is empty!\")\n",
        "      return\n",
        "    # Continue here when the stack is not empty\n",
        "    return self.data[-1][1]\n",
        "\n",
        "# Test\n",
        "\n",
        "M = MinStack()\n",
        "M.push(5)\n",
        "M.push(1)\n",
        "M.push(6)\n",
        "print(min(M.data))\n",
        "\n",
        "\n"
      ],
      "execution_count": null,
      "outputs": [
        {
          "output_type": "stream",
          "text": [
            "1\n"
          ],
          "name": "stdout"
        }
      ]
    },
    {
      "cell_type": "markdown",
      "metadata": {
        "id": "WLvu005_9Nui"
      },
      "source": [
        ""
      ]
    },
    {
      "cell_type": "markdown",
      "metadata": {
        "id": "1ygPxSmDSZN8"
      },
      "source": [
        "#Queue (using circular array)"
      ]
    },
    {
      "cell_type": "markdown",
      "metadata": {
        "id": "VHqi030LT6a2"
      },
      "source": [
        "\n",
        "\n",
        "```\n",
        "# This is formatted as code\n",
        "```\n",
        "\n",
        "###reference implementation"
      ]
    },
    {
      "cell_type": "code",
      "metadata": {
        "id": "QvewojTizb7m"
      },
      "source": [
        ""
      ],
      "execution_count": null,
      "outputs": []
    },
    {
      "cell_type": "code",
      "metadata": {
        "id": "l5csi_fgMu-T"
      },
      "source": [
        "class Queue:\n",
        "  def __init__(self, capacity):\n",
        "    self.data = [None]*capacity\n",
        "    self.capacity = capacity\n",
        "    self.size = 0\n",
        "    self.front = 0\n",
        "    self.back = 0\n",
        "  \n",
        "  def is_full(self):\n",
        "    return self.size == self.capacity\n",
        "  \n",
        "  def is_empty(self):\n",
        "    return self.size == 0\n",
        "  \n",
        "  def enqueue(self, element):\n",
        "    if self.is_full():\n",
        "      print(\"Queue is full! Can't enqueue.\")\n",
        "      return\n",
        "    \n",
        "    self.data[self.back] = element\n",
        "    self.back = (self.back + 1) % self.capacity\n",
        "    self.size += 1\n",
        "\n",
        "  def dequeue(self):\n",
        "    if self.is_empty():\n",
        "      print(\"Queue is empty! Can't dequeue.\")\n",
        "      return\n",
        "    \n",
        "    to_dequeue = self.data[self.front]\n",
        "    self.front = (self.front + 1) % self.capacity\n",
        "    self.size -= 1\n",
        "    return to_dequeue"
      ],
      "execution_count": null,
      "outputs": []
    },
    {
      "cell_type": "markdown",
      "metadata": {
        "id": "W3db-svnT9FE"
      },
      "source": [
        "###live implementation"
      ]
    },
    {
      "cell_type": "code",
      "metadata": {
        "id": "F2REi-frPgTh",
        "colab": {
          "base_uri": "https://localhost:8080/",
          "height": 34
        },
        "outputId": "eccb1651-1c70-41d2-a863-ff0fa81114b7"
      },
      "source": [
        "hashTable = [[] for _ in range(10)]\n",
        "hashTable"
      ],
      "execution_count": null,
      "outputs": [
        {
          "output_type": "execute_result",
          "data": {
            "text/plain": [
              "[[], [], [], [], [], [], [], [], [], []]"
            ]
          },
          "metadata": {
            "tags": []
          },
          "execution_count": 1
        }
      ]
    },
    {
      "cell_type": "code",
      "metadata": {
        "id": "ePBQMeFnTHhC",
        "colab": {
          "base_uri": "https://localhost:8080/",
          "height": 187
        },
        "outputId": "95acc0a9-99ed-43e2-b8f9-0c59c9c16bfa"
      },
      "source": [
        "for i in range(10):\n",
        "  print( i, end=\"\\n\")"
      ],
      "execution_count": null,
      "outputs": [
        {
          "output_type": "stream",
          "text": [
            "0\n",
            "1\n",
            "2\n",
            "3\n",
            "4\n",
            "5\n",
            "6\n",
            "7\n",
            "8\n",
            "9\n"
          ],
          "name": "stdout"
        }
      ]
    },
    {
      "cell_type": "markdown",
      "metadata": {
        "id": "hhoy3urvSeDV"
      },
      "source": [
        "## Test"
      ]
    },
    {
      "cell_type": "code",
      "metadata": {
        "id": "RxEc-dOjN36q",
        "colab": {
          "base_uri": "https://localhost:8080/",
          "height": 231
        },
        "outputId": "a49feab5-c99a-4932-b44c-74e6d594520e"
      },
      "source": [
        "c =Queue(capacity=3)\n",
        "c.enqueue(1)\n",
        "c.enqueue(2)\n",
        "c.enqueue(3)\n",
        "assert c.dequeue() == 1\n",
        "assert c.dequeue() == 2\n",
        "c.enqueue(4)\n",
        "assert c.dequeue() == 3\n",
        "assert c.dequeue() == 4\n",
        "assert c.dequeue() == None"
      ],
      "execution_count": null,
      "outputs": [
        {
          "output_type": "error",
          "ename": "NameError",
          "evalue": "ignored",
          "traceback": [
            "\u001b[0;31m---------------------------------------------------------------------------\u001b[0m",
            "\u001b[0;31mNameError\u001b[0m                                 Traceback (most recent call last)",
            "\u001b[0;32m<ipython-input-3-05245d6a81d1>\u001b[0m in \u001b[0;36m<module>\u001b[0;34m()\u001b[0m\n\u001b[0;32m----> 1\u001b[0;31m \u001b[0mc\u001b[0m \u001b[0;34m=\u001b[0m\u001b[0mQueue\u001b[0m\u001b[0;34m(\u001b[0m\u001b[0mcapacity\u001b[0m\u001b[0;34m=\u001b[0m\u001b[0;36m3\u001b[0m\u001b[0;34m)\u001b[0m\u001b[0;34m\u001b[0m\u001b[0;34m\u001b[0m\u001b[0m\n\u001b[0m\u001b[1;32m      2\u001b[0m \u001b[0mc\u001b[0m\u001b[0;34m.\u001b[0m\u001b[0menqueue\u001b[0m\u001b[0;34m(\u001b[0m\u001b[0;36m1\u001b[0m\u001b[0;34m)\u001b[0m\u001b[0;34m\u001b[0m\u001b[0;34m\u001b[0m\u001b[0m\n\u001b[1;32m      3\u001b[0m \u001b[0mc\u001b[0m\u001b[0;34m.\u001b[0m\u001b[0menqueue\u001b[0m\u001b[0;34m(\u001b[0m\u001b[0;36m2\u001b[0m\u001b[0;34m)\u001b[0m\u001b[0;34m\u001b[0m\u001b[0;34m\u001b[0m\u001b[0m\n\u001b[1;32m      4\u001b[0m \u001b[0mc\u001b[0m\u001b[0;34m.\u001b[0m\u001b[0menqueue\u001b[0m\u001b[0;34m(\u001b[0m\u001b[0;36m3\u001b[0m\u001b[0;34m)\u001b[0m\u001b[0;34m\u001b[0m\u001b[0;34m\u001b[0m\u001b[0m\n\u001b[1;32m      5\u001b[0m \u001b[0;32massert\u001b[0m \u001b[0mc\u001b[0m\u001b[0;34m.\u001b[0m\u001b[0mdequeue\u001b[0m\u001b[0;34m(\u001b[0m\u001b[0;34m)\u001b[0m \u001b[0;34m==\u001b[0m \u001b[0;36m1\u001b[0m\u001b[0;34m\u001b[0m\u001b[0;34m\u001b[0m\u001b[0m\n",
            "\u001b[0;31mNameError\u001b[0m: name 'Queue' is not defined"
          ]
        }
      ]
    },
    {
      "cell_type": "code",
      "metadata": {
        "id": "MuIjGEVgNAgm"
      },
      "source": [
        "def add(n,m):\n",
        "  sum = n+m\n",
        "  return sum"
      ],
      "execution_count": null,
      "outputs": []
    },
    {
      "cell_type": "code",
      "metadata": {
        "id": "3rAEI6eHYVw6",
        "colab": {
          "base_uri": "https://localhost:8080/",
          "height": 34
        },
        "outputId": "6e08a4df-a81e-4bcd-b8c7-e0062a1087aa"
      },
      "source": [
        "add(5,1)"
      ],
      "execution_count": null,
      "outputs": [
        {
          "output_type": "execute_result",
          "data": {
            "text/plain": [
              "6"
            ]
          },
          "metadata": {
            "tags": []
          },
          "execution_count": 19
        }
      ]
    },
    {
      "cell_type": "markdown",
      "metadata": {
        "id": "Xw5Uf3saNBef"
      },
      "source": [
        "# HashTable"
      ]
    },
    {
      "cell_type": "markdown",
      "metadata": {
        "id": "jlfWK13NBVLH"
      },
      "source": [
        "## Implementation using modulo"
      ]
    },
    {
      "cell_type": "code",
      "metadata": {
        "id": "rtrM1-qWQWnS",
        "colab": {
          "base_uri": "https://localhost:8080/",
          "height": 384
        },
        "outputId": "b309cfff-d799-4d39-ade4-6dc0c0806fd0"
      },
      "source": [
        "def display_hash(hashTable): \n",
        "      \n",
        "    for i in range(len(hashTable)): \n",
        "        print(i, end = \" \") \n",
        "          \n",
        "        for j in hashTable[i]: \n",
        "            print(\"-->\", end = \" \") \n",
        "            print(j, end = \" \") \n",
        "              \n",
        "        print() \n",
        "\n",
        "HashTable = [[] for _ in range(20)] \n",
        "\n",
        "# Hash function\n",
        "def Hashing(keyvalue): \n",
        "    return keyvalue % len(HashTable) \n",
        "\n",
        "# Insert an element to the table \n",
        "def insert(Hashtable, keyvalue, value):\n",
        "    hash_key = Hashing(keyvalue) \n",
        "    Hashtable[hash_key].append(value)\n",
        "\n",
        "  \n",
        "# Test insert(HashTable, key, value) \n",
        "insert(HashTable, 10, 'Allahabad') \n",
        "insert(HashTable, 25, 'Mumbai') \n",
        "insert(HashTable, 20, 'Mathura') \n",
        "insert(HashTable, 9, 'Delhi') \n",
        "insert(HashTable, 21, 'Punjab') \n",
        "insert(HashTable, 30, 'Noida') \n",
        "  \n",
        "display_hash (HashTable) "
      ],
      "execution_count": null,
      "outputs": [
        {
          "output_type": "stream",
          "text": [
            "0 --> Mathura \n",
            "1 --> Punjab \n",
            "2 \n",
            "3 \n",
            "4 \n",
            "5 --> Mumbai \n",
            "6 \n",
            "7 \n",
            "8 \n",
            "9 --> Delhi \n",
            "10 --> Allahabad --> Noida \n",
            "11 \n",
            "12 \n",
            "13 \n",
            "14 \n",
            "15 \n",
            "16 \n",
            "17 \n",
            "18 \n",
            "19 \n"
          ],
          "name": "stdout"
        }
      ]
    },
    {
      "cell_type": "markdown",
      "metadata": {
        "id": "U9ovGtdIQgsR"
      },
      "source": [
        "## Two Sum problem\n",
        "\n",
        "Given an array of integers, return indices of the two numbers such that they add up to a specific target.\n",
        "\n",
        "You may assume that each input would have exactly one solution, and you may not use the same element twice.\n",
        "\n",
        "\n",
        "\n",
        "```\n",
        "# This is formatted as code\n",
        "```\n",
        "\n",
        "\n",
        "**Example:**\n",
        "\n",
        "Given nums = [2, 7, 11, 15], target = 9,\n",
        "\n",
        "Because nums[0] + nums[1] = 2 + 7 = 9,\n",
        "return [0, 1]."
      ]
    },
    {
      "cell_type": "markdown",
      "metadata": {
        "id": "-EwEMGCLf2Fc"
      },
      "source": [
        "# New Section"
      ]
    },
    {
      "cell_type": "code",
      "metadata": {
        "id": "ZawqPyycQqWN",
        "colab": {
          "base_uri": "https://localhost:8080/",
          "height": 35
        },
        "outputId": "1bfdadf1-ba43-4067-8a34-5451398ffe01"
      },
      "source": [
        "def twoSum(nums, target):\n",
        "  ''' return indices of the two numbers such that they add up to a specific target. '''\n",
        "  complement = {}\n",
        "  for i in range(len(nums)):\n",
        "    if nums[i] in complement:\n",
        "      return [complement[nums[i]],  i]\n",
        "    else:\n",
        "      complement[target - nums[i]] = i\n",
        "  return []\n",
        "\n",
        "nums = [2, 10, 11, 10]\n",
        "target = 9\n",
        "\n",
        "twoSum(nums, target)"
      ],
      "execution_count": null,
      "outputs": [
        {
          "output_type": "execute_result",
          "data": {
            "text/plain": [
              "[]"
            ]
          },
          "metadata": {
            "tags": []
          },
          "execution_count": 4
        }
      ]
    },
    {
      "cell_type": "code",
      "metadata": {
        "id": "NJDRslgwcVVi"
      },
      "source": [
        "class bst:\n",
        "  def __init__(self, data=0, left_child=None, right_child=None):\n",
        "      # initialize the tree\n",
        "      self.data = data\n",
        "      self.left = left_child\n",
        "      self.right = right_child\n",
        "\n",
        "  def insert(self, d):\n",
        "      if self.data == d: \n",
        "           return false    \n",
        "      elif self.left < self.data:\n",
        "         if self.left:\n",
        "           return self.left.insert(d)    \n",
        "         else:\n",
        "           self.left = Node(d)    \n",
        "           return true\n",
        "      else: \n",
        "         if self.right:\n",
        "           return self.right.insert(d)\n",
        "         else:\n",
        "           self.right = node(d)\n",
        "           return True\n",
        "\n",
        "  def search(self, d, l):\n",
        "      l.append(self.data)\n",
        "      if self.data == d:\n",
        "        return l\n",
        "      elif d < self.data and self.left:\n",
        "        return self.left.search(d, l)\n",
        "      elif d > self.right and self.right:\n",
        "        return self.right.search(d, l)  \n",
        "      return False   \n",
        "      \n",
        "\n",
        "\n",
        "\n",
        "      \n",
        "\n",
        "\n",
        "\n",
        "\n",
        "             "
      ],
      "execution_count": null,
      "outputs": []
    },
    {
      "cell_type": "markdown",
      "metadata": {
        "id": "bTPqQ6d_rycK"
      },
      "source": [
        "# Trees"
      ]
    },
    {
      "cell_type": "code",
      "metadata": {
        "id": "ThTtW4Rjr_gi",
        "colab": {
          "base_uri": "https://localhost:8080/",
          "height": 130
        },
        "outputId": "b746baf5-7b10-453d-d65d-5e52903088e9"
      },
      "source": [
        "class Bst:\n",
        "    def __init__(self, data=0, left_child=None, right_child=None):\n",
        "        # intilize the tree\n",
        "        self.data = data\n",
        "        self.left = left_child\n",
        "        self.right = right_child\n",
        " \n",
        "    def insert(self, d):\n",
        "            if self.data == d:\n",
        "                return False\n",
        "            elif d < self.data:\n",
        "                if self.left:\n",
        "                    return self.left.insert(d)\n",
        "                else:\n",
        "                    self.left = Bst(d)\n",
        "                    return True\n",
        "            else:\n",
        "                if self.right:\n",
        "                    return self.right.insert(d)\n",
        "                else:\n",
        "                    self.right = Bst(d)\n",
        "                    return True\n",
        "    \n",
        "     def search(self, d, l):\n",
        "        \n",
        "        l.append(self.data)\n",
        "        if self.data == d:\n",
        "            return l\n",
        "        elif d < self.data and self.left:\n",
        "            return self.left.search(d, l)\n",
        "        elif d > self.data and self.right:\n",
        "            return self.right.search(d, l)\n",
        "        return False\n",
        "    \n",
        "    def preorder(self, l):\n",
        "        ''' root => left => right '''\n",
        "        if self: \n",
        "            l.append(self.data)\n",
        "            if self.left:\n",
        "                self.left.preorder(l)\n",
        "            if self.right:\n",
        "                self.right.preorder(l)\n",
        "        return l\n",
        "    \n",
        "    def inorder(self, l):\n",
        "        ''' left => root => right '''\n",
        "        if self:\n",
        "          if self.left:\n",
        "              self.left.inorder(l)\n",
        "          l.append(self.data)\n",
        "          if self.right:\n",
        "              self.right.inorder(l)\n",
        "        return l\n",
        " \n",
        "    def postorder(self, l):\n",
        "        if self:\n",
        "            if self.left:\n",
        "                self.left.postorder(l)\n",
        "            if self.right:\n",
        "                self.right.postorder(l)\n",
        "            l.append(self.data)\n",
        " \n",
        "            return l"
      ],
      "execution_count": null,
      "outputs": [
        {
          "output_type": "error",
          "ename": "IndentationError",
          "evalue": "ignored",
          "traceback": [
            "\u001b[0;36m  File \u001b[0;32m\"<ipython-input-1-273fc5a874d4>\"\u001b[0;36m, line \u001b[0;32m24\u001b[0m\n\u001b[0;31m    def search(self, d, l):\u001b[0m\n\u001b[0m                           ^\u001b[0m\n\u001b[0;31mIndentationError\u001b[0m\u001b[0;31m:\u001b[0m unindent does not match any outer indentation level\n"
          ]
        }
      ]
    },
    {
      "cell_type": "markdown",
      "metadata": {
        "id": "jD0Q3jVXr5MJ"
      },
      "source": [
        "Reference implementation"
      ]
    },
    {
      "cell_type": "code",
      "metadata": {
        "id": "2wd0BP5BsLYX",
        "colab": {
          "base_uri": "https://localhost:8080/",
          "height": 231
        },
        "outputId": "18cef094-5eaf-48c8-ca42-65a2187dde6f"
      },
      "source": [
        "root2 = Bst(5)\n",
        "root2.data\n",
        "root2.insert(4)\n",
        "root2.insert(6)\n",
        "root2.insert(2)\n",
        "root2.insert(3)\n",
        "root2.insert(1)\n",
        "print(root2.preorder(l=[]))\n",
        "print(root2.inorder(l=[]))\n",
        "print(root2.postorder(l=[]))"
      ],
      "execution_count": null,
      "outputs": [
        {
          "output_type": "error",
          "ename": "NameError",
          "evalue": "ignored",
          "traceback": [
            "\u001b[0;31m---------------------------------------------------------------------------\u001b[0m",
            "\u001b[0;31mNameError\u001b[0m                                 Traceback (most recent call last)",
            "\u001b[0;32m<ipython-input-2-801b0084a589>\u001b[0m in \u001b[0;36m<module>\u001b[0;34m()\u001b[0m\n\u001b[0;32m----> 1\u001b[0;31m \u001b[0mroot2\u001b[0m \u001b[0;34m=\u001b[0m \u001b[0mBst\u001b[0m\u001b[0;34m(\u001b[0m\u001b[0;36m5\u001b[0m\u001b[0;34m)\u001b[0m\u001b[0;34m\u001b[0m\u001b[0;34m\u001b[0m\u001b[0m\n\u001b[0m\u001b[1;32m      2\u001b[0m \u001b[0mroot2\u001b[0m\u001b[0;34m.\u001b[0m\u001b[0mdata\u001b[0m\u001b[0;34m\u001b[0m\u001b[0;34m\u001b[0m\u001b[0m\n\u001b[1;32m      3\u001b[0m \u001b[0mroot2\u001b[0m\u001b[0;34m.\u001b[0m\u001b[0minsert\u001b[0m\u001b[0;34m(\u001b[0m\u001b[0;36m4\u001b[0m\u001b[0;34m)\u001b[0m\u001b[0;34m\u001b[0m\u001b[0;34m\u001b[0m\u001b[0m\n\u001b[1;32m      4\u001b[0m \u001b[0mroot2\u001b[0m\u001b[0;34m.\u001b[0m\u001b[0minsert\u001b[0m\u001b[0;34m(\u001b[0m\u001b[0;36m6\u001b[0m\u001b[0;34m)\u001b[0m\u001b[0;34m\u001b[0m\u001b[0;34m\u001b[0m\u001b[0m\n\u001b[1;32m      5\u001b[0m \u001b[0mroot2\u001b[0m\u001b[0;34m.\u001b[0m\u001b[0minsert\u001b[0m\u001b[0;34m(\u001b[0m\u001b[0;36m2\u001b[0m\u001b[0;34m)\u001b[0m\u001b[0;34m\u001b[0m\u001b[0;34m\u001b[0m\u001b[0m\n",
            "\u001b[0;31mNameError\u001b[0m: name 'Bst' is not defined"
          ]
        }
      ]
    },
    {
      "cell_type": "code",
      "metadata": {
        "id": "tE7wuMR5oy8a"
      },
      "source": [
        "class Bst2:\n",
        "    def __init__(self, data=0, left_child=None, right_child=None):\n",
        "        # intilize the tree\n",
        "        self.data = data\n",
        "        self.left = left_child\n",
        "        self.right = right_child\n",
        "\n",
        "    def insert(self, d):\n",
        "\t\t    if self.data == d:\n",
        "\t\t\t    return False\n",
        "\t\t    elif d < self.data:\n",
        "\t\t\t    if self.left:\n",
        "\t\t\t\t    return self.left.insert(d)\n",
        "\t\t\t    else:\n",
        "\t\t\t\t    self.left = Bst2(d)\n",
        "\t\t\t\t    return True\n",
        "\t\t    else:\n",
        "\t\t\t    if self.right:\n",
        "\t\t\t\t    return self.right.insert(d)\n",
        "\t\t\t    else:\n",
        "\t\t\t\t    self.right = Bst2(d)\n",
        "\t\t\t\t    return True\n",
        "    \n",
        "    def search1(self, d,l):\n",
        "        l.append(self.data)\n",
        "        if self.data == d:\n",
        "            return print(f\"Find it !! and the list of all elements is {l} \")\n",
        "        elif d < self.data and self.left:\n",
        "            return self.left.search1(d,l)\n",
        "        elif d > self.data and self.right:\n",
        "            return self.right.search1(d,l)\n",
        "        return print(\"there is no such value in this tree\")\n",
        "    \n",
        "    def preorder(self,l):\n",
        "\n",
        "      if self:\n",
        "        l.append(self.data)\n",
        "        if self.left:\n",
        "          self.left.preorder(l)\n",
        "        if self.right:\n",
        "          self.right.preorder(l)\n",
        "      return l \n",
        "    \n",
        "    \n",
        "    def inorder(self,l):\n",
        "      if self:\n",
        "        if self.left:\n",
        "          self.left.inorder(l)\n",
        "        l.append(self.data)\n",
        "        if self.right:\n",
        "          self.right.inorder(l)\n",
        "      return l  \n",
        "\n",
        "    def postorder(self,l):\n",
        "\n",
        "      if self.left:\n",
        "        self.left.postorder(l)\n",
        "        l.append(self.data)\n",
        "      if self :\n",
        "        self.postorder(l)\n",
        "           \n",
        "        if self.right:\n",
        "          self.right.preorder(l)\n",
        "      return l  \n",
        "   \n",
        "  "
      ],
      "execution_count": null,
      "outputs": []
    },
    {
      "cell_type": "code",
      "metadata": {
        "id": "lDSuviKdvqTt",
        "colab": {
          "base_uri": "https://localhost:8080/",
          "height": 51
        },
        "outputId": "2c68ad22-320d-4b20-e26c-33aa0974e1ce"
      },
      "source": [
        "root=Bst2(5)\n",
        "root.data\n",
        "root.insert(4)\n",
        "root.insert(2)\n",
        "root.insert(9)\n",
        "root.insert(10)\n",
        "root.insert(11)\n",
        "root.insert(8)\n",
        "print(root.preorder(l=[]))\n",
        "print(root.inorder(l=[]))"
      ],
      "execution_count": null,
      "outputs": [
        {
          "output_type": "stream",
          "text": [
            "[5, 4, 2, 9, 8, 10, 11]\n",
            "[2, 4, 5, 8, 9, 10, 11]\n"
          ],
          "name": "stdout"
        }
      ]
    },
    {
      "cell_type": "markdown",
      "metadata": {
        "id": "4tqZgwCe-Oz2"
      },
      "source": [
        "Test"
      ]
    },
    {
      "cell_type": "markdown",
      "metadata": {
        "id": "hsXStmV_wnxB"
      },
      "source": [
        "#Heaps"
      ]
    },
    {
      "cell_type": "code",
      "metadata": {
        "id": "7dwfEqeX-QAX"
      },
      "source": [
        "bt=Bst(10)\n",
        "bt.insert(12)\n",
        "bt.insert(3)\n",
        "bt.insert(2)\n",
        "bt.insert()\n",
        "bt.insert(13)\n",
        "bt.insert(11)\n",
        "result=[]\n",
        "print(bt.preorder(result))"
      ],
      "execution_count": null,
      "outputs": []
    },
    {
      "cell_type": "markdown",
      "metadata": {
        "id": "z895cMI1wq9N"
      },
      "source": [
        "## MaxHeap"
      ]
    },
    {
      "cell_type": "markdown",
      "metadata": {
        "id": "JP8i0HyJ3gei"
      },
      "source": [
        "Referecence Implementation"
      ]
    },
    {
      "cell_type": "code",
      "metadata": {
        "id": "id-IwgHK2ffJ"
      },
      "source": [
        "class MaxHeap:\n",
        "    def __init__(self, size=10):\n",
        "        self.heapList = [-1]*size\n",
        "        self.currentSize = 0\n",
        "\n",
        "    def parent(self, pos):\n",
        "      return pos // 2\n",
        "\n",
        "    def leftChild(self, pos):\n",
        "      return pos * 2 + 1\n",
        "\n",
        "    def rightChild(self, pos):\n",
        "      return pos * 2 + 2\n",
        "    \n",
        "    def isLeaf(self, pos): \n",
        "        if pos >= (self.currentSize//2) and pos <= self.currentSize: \n",
        "            return True\n",
        "        return False\n",
        "\n",
        "    def swap(self, a, b):\n",
        "      self.heapList[a], self.heapList[b] = self.heapList[b], self.heapList[a]\n",
        "      return\n",
        "  \n",
        "    def bubbleDown(self, pos): \n",
        "      if not self.isLeaf(pos): \n",
        "        if (self.heapList[pos] < self.heapList[self.leftChild(pos)] or \n",
        "          self.heapList[pos] < self.heapList[self.rightChild(pos)]): \n",
        "            if self.heapList[self.leftChild(pos)] > self.heapList[self.rightChild(pos)]:\n",
        "              self.swap(pos, self.leftChild(pos)) \n",
        "              self.bubbleDown(self.leftChild(pos)) \n",
        "            else: \n",
        "              self.swap(pos, self.rightChild(pos)) \n",
        "              self.bubbleDown(self.rightChild(pos))\n",
        "\n",
        "    def bubbleUp(self, pos):\n",
        "      if pos <= 0:\n",
        "        return\n",
        "  \n",
        "      if (self.heapList[pos] > self.heapList[self.parent(pos)]):\n",
        "        self.swap(pos, self.parent(pos))\n",
        "      \n",
        "      self.bubbleUp(self.parent(pos))\n",
        "  \n",
        "    def push(self, element): \n",
        "        if self.currentSize >= len(self.heapList) : \n",
        "            return\n",
        "        self.currentSize += 1\n",
        "        self.heapList[self.currentSize-1] = element\n",
        "        self.bubbleUp(self.currentSize-1)\n",
        "\n",
        "    \n",
        "    def peek(self):\n",
        "      return self.heapList[0]\n",
        "\n",
        "    def pop(self):\n",
        "      if self.currentSize == 0:\n",
        "        return -1\n",
        "      popped = self.peek()\n",
        "      # swap last element with first element\n",
        "      self.currentSize -= 1\n",
        "      self.heapList[0], self.heapList[self.currentSize] = self.heapList[self.currentSize], -1\n",
        "      self.bubbleDown(0)\n",
        "      return popped\n"
      ],
      "execution_count": null,
      "outputs": []
    },
    {
      "cell_type": "code",
      "metadata": {
        "id": "dWKAixUo3GbT"
      },
      "source": [
        ""
      ],
      "execution_count": null,
      "outputs": []
    },
    {
      "cell_type": "code",
      "metadata": {
        "id": "bAoxtOqvxpt_",
        "colab": {
          "base_uri": "https://localhost:8080/",
          "height": 51
        },
        "outputId": "4c3eb208-d8ca-4e58-d102-c56afaea81d0"
      },
      "source": [
        "bh=MaxHeap(7)\n",
        "bh.push(19)\n",
        "bh.push(15)\n",
        "bh.push(18)\n",
        "bh.push(10)\n",
        "bh.push(9)\n",
        "bh.push(17)\n",
        "bh.push(16)\n",
        "print(bh.heapList)\n",
        "print(bh.currentSize)"
      ],
      "execution_count": null,
      "outputs": [
        {
          "output_type": "stream",
          "text": [
            "[19, 18, 17, 16, 9, 15, 10]\n",
            "7\n"
          ],
          "name": "stdout"
        }
      ]
    },
    {
      "cell_type": "markdown",
      "metadata": {
        "id": "DWeTcD5-HE6i"
      },
      "source": [
        "Test"
      ]
    },
    {
      "cell_type": "code",
      "metadata": {
        "id": "-Ecm_2Pu4gy1",
        "colab": {
          "base_uri": "https://localhost:8080/",
          "height": 217
        },
        "outputId": "6f326ef1-aa64-477b-e174-0d6481f8aa71"
      },
      "source": [
        "heap = MaxHeap(5)\n",
        "\n",
        "heap.push(10)\n",
        "heap.push(3)\n",
        "heap.push(20)\n",
        "heap.push(1)\n",
        "heap.push(100)\n",
        "\n",
        "print(heap.heapList)\n",
        "\n",
        "print(heap.peek())\n",
        "\n",
        "print(heap.heapList)\n",
        "\n",
        "print(heap.pop())\n",
        "print(heap.pop())\n",
        "print(heap.pop())\n",
        "print(heap.heapList)\n",
        "print(heap.pop())\n",
        "print(heap.pop())\n",
        "print(heap.heapList)\n",
        "\n",
        "print(heap.pop())"
      ],
      "execution_count": null,
      "outputs": [
        {
          "output_type": "stream",
          "text": [
            "[100, 20, 10, 1, 3]\n",
            "100\n",
            "[100, 20, 10, 1, 3]\n",
            "100\n",
            "20\n",
            "10\n",
            "[3, 1, -1, -1, -1]\n",
            "3\n",
            "1\n",
            "[-1, -1, -1, -1, -1]\n",
            "-1\n"
          ],
          "name": "stdout"
        }
      ]
    },
    {
      "cell_type": "markdown",
      "metadata": {
        "id": "TOoMdFNpH6vS"
      },
      "source": [
        "Practise problems"
      ]
    },
    {
      "cell_type": "code",
      "metadata": {
        "id": "wE6QLwKmIVxG"
      },
      "source": [
        "Given an array return largest kth element\n",
        " \n",
        "Example\n",
        " \n",
        "Input: array [6,1,9,8,5], k =3\n",
        " \n",
        "Output: [9,8,6]\n",
        " \n",
        " \n",
        " \n",
        " \n",
        "Given a string return first k non repeating characters\n",
        " \n",
        "Example\n",
        " \n",
        "Input string=\"ADCADR\" k=2\n",
        " \n",
        "return [\"C\". \"R\"]"
      ],
      "execution_count": null,
      "outputs": []
    },
    {
      "cell_type": "code",
      "metadata": {
        "id": "bvGV4kHW-rWb"
      },
      "source": [
        ""
      ],
      "execution_count": null,
      "outputs": []
    }
  ]
}