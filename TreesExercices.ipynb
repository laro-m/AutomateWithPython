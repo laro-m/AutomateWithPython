{
  "nbformat": 4,
  "nbformat_minor": 0,
  "metadata": {
    "colab": {
      "name": "TreesExercices.ipynb",
      "provenance": [],
      "collapsed_sections": [
        "vb-mIqjW9_Db"
      ],
      "include_colab_link": true
    },
    "kernelspec": {
      "name": "python3",
      "display_name": "Python 3"
    }
  },
  "cells": [
    {
      "cell_type": "markdown",
      "metadata": {
        "id": "view-in-github",
        "colab_type": "text"
      },
      "source": [
        "<a href=\"https://colab.research.google.com/github/laro-m/AutomateWithPython/blob/master/TreesExercices.ipynb\" target=\"_parent\"><img src=\"https://colab.research.google.com/assets/colab-badge.svg\" alt=\"Open In Colab\"/></a>"
      ]
    },
    {
      "cell_type": "markdown",
      "metadata": {
        "id": "r17kJVGetapp"
      },
      "source": [
        "# Tree: Height of a Binary Tree"
      ]
    },
    {
      "cell_type": "code",
      "metadata": {
        "id": "j8NirBuH6JVG"
      },
      "source": [
        "class Node:\n",
        "    def __init__(self, info): \n",
        "        self.info = info  \n",
        "        self.left = None  \n",
        "        self.right = None \n",
        "        self.level = None\n",
        "    \n",
        "    @classmethod\n",
        "    def with_children(cls, val, left=None, right=None):\n",
        "      node = cls(val)\n",
        "      node.left = left\n",
        "      node.right = right\n",
        "      return node\n",
        "\n",
        "    def __str__(self):\n",
        "        return str(self.info) "
      ],
      "execution_count": null,
      "outputs": []
    },
    {
      "cell_type": "markdown",
      "metadata": {
        "id": "UjU0bayzYLwz"
      },
      "source": [
        "###Reference"
      ]
    },
    {
      "cell_type": "code",
      "metadata": {
        "id": "LnYGBMIatc49"
      },
      "source": [
        "def height(root):\n",
        "  if not root:\n",
        "    return -1\n",
        "  \n",
        "  return 1 + max(height(root.left), height(root.right))"
      ],
      "execution_count": null,
      "outputs": []
    },
    {
      "cell_type": "markdown",
      "metadata": {
        "id": "fY78_0FPrPTX"
      },
      "source": [
        "![Tree example](https://i.imgur.com/ed7I5cG.png)"
      ]
    },
    {
      "cell_type": "markdown",
      "metadata": {
        "id": "C04g1KuhtE1I"
      },
      "source": [
        "###Test"
      ]
    },
    {
      "cell_type": "code",
      "metadata": {
        "id": "b51tXa0rs-kf",
        "colab": {
          "base_uri": "https://localhost:8080/",
          "height": 69
        },
        "outputId": "28244e80-2517-4c20-cf9c-d6f40c48309c"
      },
      "source": [
        "# Building the tree\n",
        "node14 = Node.with_children(14)\n",
        "node11 = Node.with_children(11, right=node14)\n",
        "node8, node6, node10 = Node.with_children(8), Node.with_children(6, node11), Node.with_children(10)\n",
        "node20, node7 = Node.with_children(20, node8), Node.with_children(7, node6, node10)\n",
        "node12 = Node.with_children(12, left=node20, right=node7)\n",
        "root = node12\n",
        "###################\n",
        "\n",
        "assert height(root) == 4\n",
        "print(f\"Tree with root 12 has height 4!\")\n",
        "assert height(node14) == 0\n",
        "print(f\"Subtree with root 14 has height 0!\")\n",
        "assert height(node20) == 1\n",
        "print(f\"Subtree with root 20 has height 1!\")"
      ],
      "execution_count": null,
      "outputs": [
        {
          "output_type": "stream",
          "text": [
            "Tree with root 12 has height 4!\n",
            "Subtree with root 14 has height 0!\n",
            "Subtree with root 20 has height 1!\n"
          ],
          "name": "stdout"
        }
      ]
    },
    {
      "cell_type": "markdown",
      "metadata": {
        "id": "5O_Hwi98tdZZ"
      },
      "source": [
        "# Tree : Top View"
      ]
    },
    {
      "cell_type": "markdown",
      "metadata": {
        "id": "ZDCzaKZpYeST"
      },
      "source": [
        "###reference"
      ]
    },
    {
      "cell_type": "code",
      "metadata": {
        "id": "oejawhiWtfcy"
      },
      "source": [
        "from queue import Queue\n",
        "\n",
        "def top_view(root):\n",
        "  level_to_node = {}\n",
        "  q = Queue()\n",
        "  q.put((root, 0))\n",
        "  while not q.empty():\n",
        "    node, level = q.get()\n",
        "    if not node:\n",
        "      continue\n",
        "\n",
        "    if level not in level_to_node:\n",
        "      level_to_node[level] = node.info\n",
        "\n",
        "    q.put((node.left, level - 1))\n",
        "    q.put((node.right, level + 1))\n",
        "\n",
        "  return level_to_node\n",
        "  "
      ],
      "execution_count": null,
      "outputs": []
    },
    {
      "cell_type": "markdown",
      "metadata": {
        "id": "F9bmM_5hYgok"
      },
      "source": [
        "###live implementation"
      ]
    },
    {
      "cell_type": "code",
      "metadata": {
        "id": "UjM4evzG4ekF",
        "colab": {
          "base_uri": "https://localhost:8080/",
          "height": 34
        },
        "outputId": "27813445-826d-449c-e098-4e87f94633ad"
      },
      "source": [
        "level_to_node = top_view(root)\n",
        "print(' -> '.join([str(node_val) for _, node_val in sorted(level_to_node.items())]))"
      ],
      "execution_count": null,
      "outputs": [
        {
          "output_type": "stream",
          "text": [
            "8 -> 20 -> 12 -> 7 -> 10\n"
          ],
          "name": "stdout"
        }
      ]
    },
    {
      "cell_type": "markdown",
      "metadata": {
        "id": "-bvjU_AhtgS-"
      },
      "source": [
        "# Binary Search Tree : Lowest Common Ancestor "
      ]
    },
    {
      "cell_type": "markdown",
      "metadata": {
        "id": "vb-mIqjW9_Db"
      },
      "source": [
        "###Reference"
      ]
    },
    {
      "cell_type": "code",
      "metadata": {
        "id": "ydHMX7-oti0s"
      },
      "source": [
        "class Node:\n",
        "    def __init__(self, info): \n",
        "        self.info = info  \n",
        "        self.left = None  \n",
        "        self.right = None \n",
        "        self.level = None\n",
        "    \n",
        "    def __str__(self):\n",
        "        return str(self.info) \n",
        "\n",
        "class BinarySearchTree:\n",
        "    def __init__(self): \n",
        "        self.root = None\n",
        "\n",
        "    def create(self, val):  \n",
        "        if self.root == None:\n",
        "            self.root = Node(val)\n",
        "        else:\n",
        "            current = self.root\n",
        "         \n",
        "            while True:\n",
        "                if val < current.info:\n",
        "                    if current.left:\n",
        "                        current = current.left\n",
        "                    else:\n",
        "                        current.left = Node(val)\n",
        "                        break\n",
        "                elif val > current.info:\n",
        "                    if current.right:\n",
        "                        current = current.right\n",
        "                    else:\n",
        "                        current.right = Node(val)\n",
        "                        break\n",
        "                else:\n",
        "                    break"
      ],
      "execution_count": null,
      "outputs": []
    },
    {
      "cell_type": "markdown",
      "metadata": {
        "id": "t13Sh7y1-FI9"
      },
      "source": [
        "###Solution"
      ]
    },
    {
      "cell_type": "code",
      "metadata": {
        "id": "tRqJMEwV-Vab"
      },
      "source": [
        "def lca(root, v1, v2):\n",
        "    if not root:\n",
        "        return None\n",
        "    elif root.info < v1 and root.info < v2:\n",
        "        return lca(root.right, v1, v2)\n",
        "    elif root.info > v1 and root.info > v2:\n",
        "        return lca(root.left, v1, v2)\n",
        "    else:\n",
        "        return root"
      ],
      "execution_count": null,
      "outputs": []
    },
    {
      "cell_type": "markdown",
      "metadata": {
        "id": "8rKM0twu---y"
      },
      "source": [
        "###Test"
      ]
    },
    {
      "cell_type": "code",
      "metadata": {
        "id": "gtK02r9Y_COH"
      },
      "source": [
        "tree = BinarySearchTree()\n",
        "t = int(input())\n",
        "\n",
        "arr = list(map(int, input().split()))\n",
        "\n",
        "for i in range(t):\n",
        "    tree.create(arr[i])\n",
        "\n",
        "v = list(map(int, input().split()))\n",
        "\n",
        "ans = lca(tree.root, v[0], v[1])\n",
        "\n",
        "# 8\n",
        "# 7 9 4 2 6 3 5 1\n",
        "# 7 9\n",
        "# assert ans.info == 7\n",
        "\n",
        "# 7\n",
        "# 5 3 8 2 4 6 7\n",
        "# 7 3\n",
        "# assert ans.info == 5"
      ],
      "execution_count": null,
      "outputs": []
    },
    {
      "cell_type": "markdown",
      "metadata": {
        "id": "pS7pFkNHtjeW"
      },
      "source": [
        "# Binary Search Tree : Insertion"
      ]
    },
    {
      "cell_type": "markdown",
      "metadata": {
        "id": "l3FgemoiF5s7"
      },
      "source": [
        "###Reference"
      ]
    },
    {
      "cell_type": "code",
      "metadata": {
        "id": "7qGeurzctlmJ"
      },
      "source": [
        "class Node:\n",
        "    def __init__(self, info):\n",
        "        self.info = info  \n",
        "        self.left = None  \n",
        "        self.right = None \n",
        "        self.level = None \n",
        "\n",
        "    def __str__(self):\n",
        "        return str(self.info) \n",
        "\n",
        "def preOrder(root):\n",
        "    if root == None:\n",
        "        return\n",
        "    print (root.info, end=\" \")\n",
        "    preOrder(root.left)\n",
        "    preOrder(root.right)"
      ],
      "execution_count": null,
      "outputs": []
    },
    {
      "cell_type": "markdown",
      "metadata": {
        "id": "Q5qIpugQ6Gqn"
      },
      "source": [
        "###stash"
      ]
    },
    {
      "cell_type": "code",
      "metadata": {
        "id": "FnzV-3L96JgR"
      },
      "source": [
        "class BinarySearchTree:\n",
        "    def __init__(self): \n",
        "        self.root = None\n",
        "\n",
        "#Node is defined as\n",
        "#self.left (the left child of the node)\n",
        "#self.right (the right child of the node)\n",
        "#self.info (the value of the node)\n",
        "\n",
        "    def insert(self, val):\n",
        "      if not self.root:\n",
        "        self.root = Node(val)\n",
        "      else:\n",
        "        node = self.root\n",
        "        while True:\n",
        "          if node.info > val:\n",
        "            # insert in the left subtree\n",
        "            if node.left:\n",
        "              node = node.left\n",
        "            else:\n",
        "              node.left = Node(val)\n",
        "              break\n",
        "          else:\n",
        "            # insert in the right substree\n",
        "            if node.right:\n",
        "              node = node.right\n",
        "            else:\n",
        "              node.right = Node(val)\n",
        "              break"
      ],
      "execution_count": null,
      "outputs": []
    },
    {
      "cell_type": "markdown",
      "metadata": {
        "id": "sEObx8QhF-uN"
      },
      "source": [
        "###Solution"
      ]
    },
    {
      "cell_type": "code",
      "metadata": {
        "id": "Eiwiedu-GAsy"
      },
      "source": [
        "class BinarySearchTree:\n",
        "    def __init__(self): \n",
        "        self.root = None\n",
        "\n",
        "#Node is defined as\n",
        "#self.left (the left child of the node)\n",
        "#self.right (the right child of the node)\n",
        "#self.info (the value of the node)\n",
        "\n",
        "    def insert(self, val):\n",
        "      if not self.root: # self.root = None\n",
        "        self.root = Node(val)\n",
        "      else:\n",
        "        node = self.root\n",
        "        while True:\n",
        "          if node.info > val:\n",
        "            if node.left:\n",
        "              node = node.left\n",
        "            else:\n",
        "              # node.left == None\n",
        "              node.left = Node(val)\n",
        "              break\n",
        "          else:\n",
        "            if node.right:\n",
        "              node = node.right\n",
        "            else:\n",
        "              node.right = Node(val)\n",
        "              break"
      ],
      "execution_count": null,
      "outputs": []
    },
    {
      "cell_type": "markdown",
      "metadata": {
        "id": "4gqMMxOdGHFk"
      },
      "source": [
        "###Test"
      ]
    },
    {
      "cell_type": "code",
      "metadata": {
        "id": "rHR1Fg8lGKLt"
      },
      "source": [
        "tree = BinarySearchTree()\n",
        "t = int(input())\n",
        "\n",
        "arr = list(map(int, input().split()))\n",
        "\n",
        "for i in range(t):\n",
        "    tree.insert(arr[i])\n",
        "\n",
        "preOrder(tree.root)\n",
        "\n",
        "# 8\n",
        "# 8 4 9 1 2 3 6 5\n",
        "# == > 8 4 1 2 3 6 5 9 "
      ],
      "execution_count": null,
      "outputs": []
    },
    {
      "cell_type": "markdown",
      "metadata": {
        "id": "KytbKtp9tm6B"
      },
      "source": [
        "# QHEAP1"
      ]
    },
    {
      "cell_type": "markdown",
      "metadata": {
        "id": "mkZ-7BvmaQMP"
      },
      "source": [
        "###Reference"
      ]
    },
    {
      "cell_type": "code",
      "metadata": {
        "id": "id-IwgHK2ffJ"
      },
      "source": [
        "class MaxHeap:\n",
        "    def __init__(self, size=10):\n",
        "        self.heapList = [sys.minsize]*size\n",
        "        self.currentSize = 0\n",
        "\n",
        "    def parent(self, pos):\n",
        "      return pos // 2\n",
        "\n",
        "    def leftChild(self, pos):\n",
        "      return pos * 2 + 1\n",
        "\n",
        "    def rightChild(self, pos):\n",
        "      return pos * 2 + 2\n",
        "    \n",
        "    def isLeaf(self, pos): \n",
        "        if pos >= (self.currentSize//2) and pos <= self.currentSize: \n",
        "            return True\n",
        "        return False\n",
        "\n",
        "    def swap(self, a, b):\n",
        "      self.heapList[a], self.heapList[b] = self.heapList[b], self.heapList[a]\n",
        "      return\n",
        "  \n",
        "    def bubbleDown(self, pos): \n",
        "      if not self.isLeaf(pos): \n",
        "        if (self.heapList[pos] < self.heapList[self.leftChild(pos)] or \n",
        "          self.heapList[pos] < self.heapList[self.rightChild(pos)]): \n",
        "            if self.heapList[self.leftChild(pos)] > self.heapList[self.rightChild(pos)]:\n",
        "              self.swap(pos, self.leftChild(pos)) \n",
        "              self.bubbleDown(self.leftChild(pos)) \n",
        "            else: \n",
        "              self.swap(pos, self.rightChild(pos)) \n",
        "              self.bubbleDown(self.rightChild(pos))\n",
        "\n",
        "    def bubbleUp(self, pos):\n",
        "      if pos <= 0:\n",
        "        return\n",
        "  \n",
        "      if (self.heapList[pos] > self.heapList[self.parent(pos)]):\n",
        "        self.swap(pos, self.parent(pos))\n",
        "      \n",
        "      self.bubbleUp(self.parent(pos))\n",
        "  \n",
        "    def push(self, element): \n",
        "        if self.currentSize >= len(self.heapList) : \n",
        "            return\n",
        "        self.currentSize += 1\n",
        "        self.heapList[self.currentSize-1] = element\n",
        "        self.bubbleUp(self.currentSize-1)\n",
        "\n",
        "    \n",
        "    def peek(self):\n",
        "      return self.heapList[0]\n",
        "\n",
        "    def pop(self):\n",
        "      if self.currentSize == 0:\n",
        "        return -1\n",
        "      popped = self.peek()\n",
        "      # swap last element with first element\n",
        "      self.currentSize -= 1\n",
        "      self.heapList[0], self.heapList[self.currentSize] = self.heapList[self.currentSize], sys.minsize\n",
        "      self.bubbleDown(0)\n",
        "      return popped\n",
        "\n"
      ],
      "execution_count": null,
      "outputs": []
    },
    {
      "cell_type": "code",
      "metadata": {
        "id": "E-ztZDz_by-1"
      },
      "source": [
        "import sys\n",
        "\n",
        "class MinHeap:\n",
        "    def __init__(self, size=10):\n",
        "        self.heapList = [sys.maxsize]*size\n",
        "        self.currentSize = 0\n",
        "\n",
        "    def parent(self, pos):\n",
        "      return pos // 2\n",
        "\n",
        "    def leftChild(self, pos):\n",
        "      return pos * 2 + 1\n",
        "\n",
        "    def rightChild(self, pos):\n",
        "      return pos * 2 + 2\n",
        "    \n",
        "    def isLeaf(self, pos): \n",
        "        if pos >= (self.currentSize//2) and pos <= self.currentSize: \n",
        "            return True\n",
        "        return False\n",
        "\n",
        "    def swap(self, a, b):\n",
        "      self.heapList[a], self.heapList[b] = self.heapList[b], self.heapList[a]\n",
        "      return\n",
        "  \n",
        "    def bubbleDown(self, pos): \n",
        "      if not self.isLeaf(pos): \n",
        "        if (self.heapList[pos] > self.heapList[self.leftChild(pos)] or \n",
        "          self.heapList[pos] > self.heapList[self.rightChild(pos)]): \n",
        "            if self.heapList[self.leftChild(pos)] < self.heapList[self.rightChild(pos)]:\n",
        "              self.swap(pos, self.leftChild(pos)) \n",
        "              self.bubbleDown(self.leftChild(pos)) \n",
        "            else: \n",
        "              self.swap(pos, self.rightChild(pos)) \n",
        "              self.bubbleDown(self.rightChild(pos))\n",
        "\n",
        "    def bubbleUp(self, pos):\n",
        "      if pos <= 0:\n",
        "        return\n",
        "  \n",
        "      if (self.heapList[pos] < self.heapList[self.parent(pos)]):\n",
        "        self.swap(pos, self.parent(pos))\n",
        "      \n",
        "      self.bubbleUp(self.parent(pos))\n",
        "  \n",
        "    def push(self, element): \n",
        "        if self.currentSize >= len(self.heapList) : \n",
        "            return\n",
        "        self.currentSize += 1\n",
        "        self.heapList[self.currentSize-1] = element\n",
        "        self.bubbleUp(self.currentSize-1)\n",
        "\n",
        "    \n",
        "    def peek(self):\n",
        "      return self.heapList[0]\n",
        "\n",
        "    def pop(self):\n",
        "      if self.currentSize == 0:\n",
        "        return -1\n",
        "      popped = self.peek()\n",
        "      # swap last element with first element\n",
        "      self.currentSize -= 1\n",
        "      self.heapList[0], self.heapList[self.currentSize] = self.heapList[self.currentSize], sys.maxsize\n",
        "      self.bubbleDown(0)\n",
        "      return popped\n",
        "    \n",
        "    def find(self, value):\n",
        "      for i in range(len(self.heapList)):\n",
        "        if self.heapList[i] == value:\n",
        "          return i\n",
        "      return -1\n",
        "\n",
        "    def remove(self, value):\n",
        "      index = self.find(value);\n",
        "      self.currentSize -= 1\n",
        "      self.heapList[index], self.heapList[self.currentSize] = self.heapList[self.currentSize], sys.maxsize\n",
        "      self.bubbleDown(0)\n",
        "\n"
      ],
      "execution_count": null,
      "outputs": []
    },
    {
      "cell_type": "code",
      "metadata": {
        "id": "jCM7ETzCtpAw"
      },
      "source": [
        ""
      ],
      "execution_count": null,
      "outputs": []
    },
    {
      "cell_type": "code",
      "metadata": {
        "id": "IVA_njjfcAYl",
        "colab": {
          "base_uri": "https://localhost:8080/",
          "height": 68
        },
        "outputId": "51d8065c-9c7a-4f90-af64-3148e8d34bee"
      },
      "source": [
        "num_queries = int(input())\n",
        "heap = MinHeap(num_queries);\n",
        "for _ in range(num_queries):\n",
        "  l = input().split() // 1 5 [\"1\", \"5\"]\n",
        "  1 = int(\"1\")\n",
        "  cmd = list(map(int, input().split()))\n",
        "  if cmd[0] == 1:\n",
        "    heap.push(cmd[1]);\n",
        "  elif cmd[0] == 2:\n",
        "    heap.remove(cmd[1])\n",
        "  elif cmd[0] == 3:\n",
        "    print(heap.peek())"
      ],
      "execution_count": null,
      "outputs": [
        {
          "output_type": "stream",
          "text": [
            "1\n",
            "3\n",
            "9223372036854775807\n"
          ],
          "name": "stdout"
        }
      ]
    },
    {
      "cell_type": "markdown",
      "metadata": {
        "id": "1sUOF4qVtpir"
      },
      "source": [
        "# Find the Running Median"
      ]
    },
    {
      "cell_type": "code",
      "metadata": {
        "id": "n0YXEOettrlD"
      },
      "source": [
        ""
      ],
      "execution_count": null,
      "outputs": []
    },
    {
      "cell_type": "code",
      "metadata": {
        "id": "s26ghBBXcILs"
      },
      "source": [
        "num_queries = int(input())\n",
        "heap = MinHeap(num_queries);\n",
        "for _ in range(num_queries):\n",
        "  cmd = list(map(int, input().split()))\n",
        "  if cmd[0] == 1:\n",
        "    heap.push(cmd[1]);\n",
        "  elif cmd[0] == 2:\n",
        "    heap.remove(cmd[1])\n",
        "  elif cmd[0] == 3:\n",
        "    print(heap.peek())"
      ],
      "execution_count": null,
      "outputs": []
    }
  ]
}