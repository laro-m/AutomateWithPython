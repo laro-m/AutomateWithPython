{
  "nbformat": 4,
  "nbformat_minor": 0,
  "metadata": {
    "colab": {
      "name": "Graph.ipynb",
      "provenance": [],
      "collapsed_sections": [],
      "include_colab_link": true
    },
    "kernelspec": {
      "name": "python3",
      "display_name": "Python 3"
    }
  },
  "cells": [
    {
      "cell_type": "markdown",
      "metadata": {
        "id": "view-in-github",
        "colab_type": "text"
      },
      "source": [
        "<a href=\"https://colab.research.google.com/github/laro-m/AutomateWithPython/blob/master/Graph.ipynb\" target=\"_parent\"><img src=\"https://colab.research.google.com/assets/colab-badge.svg\" alt=\"Open In Colab\"/></a>"
      ]
    },
    {
      "cell_type": "markdown",
      "metadata": {
        "id": "SE_WQFf4hh78"
      },
      "source": [
        "# Graph implementation with adjacency matrix"
      ]
    },
    {
      "cell_type": "code",
      "metadata": {
        "id": "tjNvdAJmhfFU"
      },
      "source": [
        "from collections import deque\n",
        "\n",
        "class GraphMatrix:\n",
        "\n",
        "\tdef __init__(self, n):\n",
        "\t\t''' nbr: number of vertices '''\n",
        "\t\t''' adj_matrix: Matrix representation of the graph'''\n",
        "\n",
        "\t\tself.nbr = n\n",
        "\t\tself.adj_matrix = []\n",
        "\n",
        "\t\t# Initialize the matrix to zeroes\n",
        "\t\tfor i in range(self.nbr):\n",
        "\t\t\tself.adj_matrix.append([0] * self.nbr)\n",
        "\n",
        "\tdef print_graph(self):\n",
        "\t\t\"\"\" Print the graph's matrix \"\"\"\n",
        "\t\tfor i in range(self.nbr):\n",
        "\t\t\tprint(self.adj_matrix[i])\n",
        "\t\n",
        "\n",
        "\tdef print_BFS(self, start = 0):\n",
        "\t\t\"\"\"Print the BFS brows\"\"\"\n",
        "\t\tqueue = deque()\n",
        "\t\tvisited = [0] * self.nbr\n",
        "\t\tqueue.append(start)\n",
        "\t\twhile(queue):\n",
        "\t\t\ta = queue.popleft()\n",
        "\t\t\tif(visited[a] == 0):\n",
        "\t\t\t\tprint(\"V\"+str(a), end=\", \")\n",
        "\t\t\t\tfor i in range(self.nbr):\n",
        "\t\t\t\t\tif(self.adj_matrix[a][i] == 1):\n",
        "\t\t\t\t\t\tif(visited[i] == 0):\n",
        "\t\t\t\t\t\t\tqueue.append(i)\n",
        "\t\t\t\tvisited[a] = 1\n",
        "\t\tprint()\n",
        "\n",
        "\n",
        "\t# A function used by DFS \n",
        "\tdef DFSUtil(self, v, visited): \n",
        "\n",
        "\t\t# Mark the current node as visited  \n",
        "\t\t# and print it \n",
        "\t\tvisited[v] = True\n",
        "\t\tprint('V'+str(v), end = ', ') \n",
        "\n",
        "\t\t# Recur for all the vertices  \n",
        "\t\t# adjacent to this vertex \n",
        "\t\tfor i in range(self.nbr):\n",
        "\t\t\tif(self.adj_matrix[v][i] == 1):\n",
        "\t\t\t\tif visited[i] == False: \n",
        "\t\t\t\t\tself.DFSUtil(i, visited) \n",
        "\n",
        "\t# The function to do DFS traversal. It uses \n",
        "\t# recursive DFSUtil() \n",
        "\tdef print_DFS(self, v): \n",
        "\t\t# Mark all the vertices as not visited \n",
        "\t\tvisited = [False] * self.nbr\n",
        "\n",
        "\t\t# Call the recursive helper function  \n",
        "\t\t# to print DFS traversal \n",
        "\t\tself.DFSUtil(v, visited)\n",
        "\t\n",
        "\n",
        "\tdef add_vertices(self, nv):\n",
        "\t\t\"\"\" Add nv vertices to the graph\"\"\"\n",
        "\t\tif nv < 0: return\n",
        "\t\tfor j in range(self.nbr):\n",
        "\t\t\tself.adj_matrix[j] += [0] * nv\n",
        "\t\t\n",
        "\t\tself.nbr += nv\n",
        "\n",
        "\t\tfor i in range(nv):\n",
        "\t\t\tself.adj_matrix.append([0] * self.nbr)\n",
        "\n",
        "\t\t\n",
        "\tdef Is_Connexe(self):\n",
        "\t\t\"\"\"method Is_Connexe, test if a graph connexe or not\n",
        "\t\tby browsing it using BFS \"\"\"\n",
        "\t\t\n",
        "\t\tqueue = deque()\n",
        "\t\tvisited = [0] * self.nbr\n",
        "\t\t\n",
        "\t\ta = 0\n",
        "\t\tqueue.append(a)\n",
        "\t\n",
        "\t\twhile(queue):\n",
        "\t\t\ta = queue.popleft()\n",
        "\t\t\tif(visited[a] == 0):\n",
        "\t\t\t\tfor i in range(self.nbr):\n",
        "\t\t\t\t\t\tif(self.adj_matrix[a][i] == 1):\n",
        "\t\t\t\t\t\t\tif(visited[i] == 0 and i not in queue):\n",
        "\t\t\t\t\t\t\t\tqueue.append(i)\n",
        "\n",
        "\t\t\t\tvisited[a] = 1\n",
        "\t\t\n",
        "\t\treturn all([x == 1 for x in visited]) # i.e., (visited.count(1) == len(visited))\n",
        "\n",
        "\tdef BFS_SP(self, start, end):\n",
        "\t\t\"\"\"Return the shortest path between two vertices s (start) and e (end)\"\"\"\n",
        "\t\tqueue = deque()\n",
        "\t\tpath = []\n",
        "\t\tparents = [-1] * self.nbr\n",
        "\t\tvisited = [0] * self.nbr\n",
        "\t\t\n",
        "\t\tqueue.append(start)\n",
        "\t\tpath.append(end)\n",
        "\n",
        "\t\twhile(queue):\n",
        "\t\t\ta = queue.popleft()\n",
        "\t\t\tif(visited[a] == 0):\n",
        "\t\t\t\tfor i in range(self.nbr):\n",
        "\t\t\t\t\t\tif(self.adj_matrix[a][i] == 1):\n",
        "\t\t\t\t\t\t\tif(visited[i] == 0 and i not in queue):\n",
        "\t\t\t\t\t\t\t\tparents[i] = a\n",
        "\t\t\t\t\t\t\t\tqueue.append(i)\n",
        "\t\t\t\tvisited[a] = 1\n",
        "\n",
        "\t\tdst = end\n",
        "\t\t# No Path has been found\n",
        "\t\tif parents[end] == -1 : return []\n",
        "\n",
        "\t\twhile dst != start:\n",
        "\t\t\tp = parents[dst]\n",
        "\t\t\tif p not in path:\n",
        "\t\t\t\tpath.append(p)\n",
        "\t\t\tdst = p\n",
        "\n",
        "\t\tpath.reverse()\n",
        "\t\treturn path"
      ],
      "execution_count": null,
      "outputs": []
    },
    {
      "cell_type": "markdown",
      "metadata": {
        "id": "s5Q9rioLiApg"
      },
      "source": [
        "## **Testing**"
      ]
    },
    {
      "cell_type": "markdown",
      "metadata": {
        "id": "Ci4bfZFfRjpU"
      },
      "source": [
        "## Create Graph"
      ]
    },
    {
      "cell_type": "code",
      "metadata": {
        "id": "XQwEO5Y3Ri8u",
        "colab": {
          "base_uri": "https://localhost:8080/",
          "height": 122
        },
        "outputId": "f6ae1941-9618-436b-ab43-8feb4d76c17d"
      },
      "source": [
        "Gm = GraphMatrix(5)\n",
        "Gm.print_graph()\n",
        "Gm.print_BFS()"
      ],
      "execution_count": null,
      "outputs": [
        {
          "output_type": "stream",
          "text": [
            "[0, 0, 0, 0, 0]\n",
            "[0, 0, 0, 0, 0]\n",
            "[0, 0, 0, 0, 0]\n",
            "[0, 0, 0, 0, 0]\n",
            "[0, 0, 0, 0, 0]\n",
            "V0, \n"
          ],
          "name": "stdout"
        }
      ]
    },
    {
      "cell_type": "markdown",
      "metadata": {
        "id": "xSr0NKJm_6Kl"
      },
      "source": [
        "![alt text](https://drive.google.com/uc?id=1pzLzAaVnyk1GRpOIvDZh251bteU611EI)"
      ]
    },
    {
      "cell_type": "code",
      "metadata": {
        "id": "G1vtkM4ERs2r",
        "colab": {
          "base_uri": "https://localhost:8080/",
          "height": 175
        },
        "outputId": "2c39fab0-bdd2-4d70-e168-b327943eb68c"
      },
      "source": [
        "Gm.adj_matrix[0][1] = 1   \n",
        "Gm.adj_matrix[1][0] = 1\n",
        "Gm.adj_matrix[1][2] = 1\n",
        "Gm.adj_matrix[2][1] = 1\n",
        "Gm.adj_matrix[2][3] = 1\n",
        "Gm.adj_matrix[3][2] = 1\n",
        "Gm.adj_matrix[0][4] = 1\n",
        "Gm.adj_matrix[1][4] = 1\n",
        "Gm.adj_matrix[4][0] = 1\n",
        "Gm.adj_matrix[4][1] = 1\n",
        "Gm.adj_matrix[4][3] = 1\n",
        "Gm.print_graph()\n",
        "print('Using BFS')\n",
        "Gm.print_BFS(0)\n",
        "print('Using DFS')\n",
        "Gm.print_DFS(0)"
      ],
      "execution_count": null,
      "outputs": [
        {
          "output_type": "stream",
          "text": [
            "[0, 1, 0, 0, 1]\n",
            "[1, 0, 1, 0, 1]\n",
            "[0, 1, 0, 1, 0]\n",
            "[0, 0, 1, 0, 0]\n",
            "[1, 1, 0, 1, 0]\n",
            "Using BFS\n",
            "V0, V1, V4, V2, V3, \n",
            "Using DFS\n",
            "V0, V1, V2, V3, V4, "
          ],
          "name": "stdout"
        }
      ]
    },
    {
      "cell_type": "markdown",
      "metadata": {
        "id": "riysVQ9ePDFm"
      },
      "source": [
        "![alt text](https://drive.google.com/uc?id=1ShTYfHd9KH0O7NV4bsgm8Po4JYP__UU5)"
      ]
    },
    {
      "cell_type": "markdown",
      "metadata": {
        "id": "iAfeQFf4R1OI"
      },
      "source": [
        "## Add Vertices"
      ]
    },
    {
      "cell_type": "code",
      "metadata": {
        "id": "Tq3aXmmaPYd-",
        "colab": {
          "base_uri": "https://localhost:8080/",
          "height": 175
        },
        "outputId": "67cb499f-b8cd-4d56-a73f-a4ed506c4c1e"
      },
      "source": [
        "Gm.add_vertices(4)\n",
        "Gm.print_graph()"
      ],
      "execution_count": null,
      "outputs": [
        {
          "output_type": "stream",
          "text": [
            "[0, 1, 0, 0, 1, 0, 0, 0, 0]\n",
            "[1, 0, 1, 0, 1, 0, 0, 0, 0]\n",
            "[0, 1, 0, 1, 0, 0, 0, 0, 0]\n",
            "[0, 0, 1, 0, 0, 0, 0, 0, 0]\n",
            "[1, 1, 0, 1, 0, 0, 0, 0, 0]\n",
            "[0, 0, 0, 0, 0, 0, 0, 0, 0]\n",
            "[0, 0, 0, 0, 0, 0, 0, 0, 0]\n",
            "[0, 0, 0, 0, 0, 0, 0, 0, 0]\n",
            "[0, 0, 0, 0, 0, 0, 0, 0, 0]\n"
          ],
          "name": "stdout"
        }
      ]
    },
    {
      "cell_type": "markdown",
      "metadata": {
        "id": "4eJLTuOuPfWf"
      },
      "source": [
        "![alt text](https://drive.google.com/uc?id=1VZHsOgM5OaRUCGjEANcOFjTliF-LHFph)"
      ]
    },
    {
      "cell_type": "code",
      "metadata": {
        "id": "jUwfb8Za_056",
        "colab": {
          "base_uri": "https://localhost:8080/",
          "height": 210
        },
        "outputId": "130286c5-ef9e-4de0-a010-a647527a53eb"
      },
      "source": [
        "Gm.adj_matrix[0][5] = 1  \n",
        "Gm.adj_matrix[2][7] = 1\n",
        "Gm.adj_matrix[2][8] = 0\n",
        "Gm.adj_matrix[3][4] = 1\n",
        "Gm.adj_matrix[3][6] = 1   \n",
        "Gm.adj_matrix[5][0] = 1\n",
        "Gm.adj_matrix[5][6] = 1\n",
        "Gm.adj_matrix[6][3] = 1\n",
        "Gm.adj_matrix[6][5] = 1\n",
        "Gm.adj_matrix[7][2] = 1\n",
        "Gm.adj_matrix[7][8] = 0\n",
        "Gm.adj_matrix[8][2] = 0\n",
        "Gm.adj_matrix[8][7] = 0\n",
        "Gm.print_graph()\n",
        "Gm.print_BFS()\n",
        "Gm.print_DFS(0)\n",
        "\n"
      ],
      "execution_count": null,
      "outputs": [
        {
          "output_type": "stream",
          "text": [
            "[0, 1, 0, 0, 1, 1, 0, 0, 0]\n",
            "[1, 0, 1, 0, 1, 0, 0, 0, 0]\n",
            "[0, 1, 0, 1, 0, 0, 0, 1, 0]\n",
            "[0, 0, 1, 0, 1, 0, 1, 0, 0]\n",
            "[1, 1, 0, 1, 0, 0, 0, 0, 0]\n",
            "[1, 0, 0, 0, 0, 0, 1, 0, 0]\n",
            "[0, 0, 0, 1, 0, 1, 0, 0, 0]\n",
            "[0, 0, 1, 0, 0, 0, 0, 0, 0]\n",
            "[0, 0, 0, 0, 0, 0, 0, 0, 0]\n",
            "V0, V1, V4, V5, V2, V3, V6, V7, \n",
            "V0, V1, V2, V3, V4, V6, V5, V7, "
          ],
          "name": "stdout"
        }
      ]
    },
    {
      "cell_type": "markdown",
      "metadata": {
        "id": "anmaD_3OPsa4"
      },
      "source": [
        "![alt text](https://drive.google.com/uc?id=1XeJGykL_l9duVsH0cijOENZg-s3wTlwA)"
      ]
    },
    {
      "cell_type": "markdown",
      "metadata": {
        "id": "c99gZxAYSBdR"
      },
      "source": [
        "## Connexe"
      ]
    },
    {
      "cell_type": "code",
      "metadata": {
        "id": "9Q8dbxYPSECg",
        "colab": {
          "base_uri": "https://localhost:8080/",
          "height": 34
        },
        "outputId": "d76bd02a-9857-4dfa-8483-2ae422a23821"
      },
      "source": [
        "print (\"It is connexe\" if Gm.Is_Connexe() else \"No, it's not connexe\")"
      ],
      "execution_count": null,
      "outputs": [
        {
          "output_type": "stream",
          "text": [
            "No, it's not connexe\n"
          ],
          "name": "stdout"
        }
      ]
    },
    {
      "cell_type": "markdown",
      "metadata": {
        "id": "bcTAok07W1AN"
      },
      "source": [
        "## Shortest Path"
      ]
    },
    {
      "cell_type": "code",
      "metadata": {
        "id": "qEmK0mN2W3AM",
        "colab": {
          "base_uri": "https://localhost:8080/"
        },
        "outputId": "c2ee177a-4948-49a6-9aee-2de8d8519156"
      },
      "source": [
        "src = 0\n",
        "dst = 8\n",
        "print(\"Shortest path between\"+str(src)+\" and \"+str(dst)+\" : \",Gm.BFS_SP(src,dst))"
      ],
      "execution_count": null,
      "outputs": [
        {
          "output_type": "stream",
          "text": [
            "Shortest path between0 and 8 :  [0, 1, 2, 8]\n"
          ],
          "name": "stdout"
        }
      ]
    },
    {
      "cell_type": "markdown",
      "metadata": {
        "id": "NAWxOGFYgqLN"
      },
      "source": [
        "# Graph implementation with adjacency list"
      ]
    },
    {
      "cell_type": "code",
      "metadata": {
        "id": "u9dHcn9ICj-A"
      },
      "source": [
        "from collections import defaultdict\n",
        "\n",
        "class GraphList:\n",
        "\t\"\"\"Class Graph, ajecancy list\"\"\"\n",
        "\tdef __init__(self):\n",
        "\t\tself.edgeslist = defaultdict(list)\n",
        "\n",
        "\tdef add_edge(self, s, d):\n",
        "\t\t\"\"\"Add an edge between vertice s and vertice d\"\"\"\n",
        "\t\tself.edgeslist[s].append(d)\n",
        "\n",
        "\tdef print_graph(self):\n",
        "\t\t\"\"\" Print the graph\"\"\"\n",
        "\t\tfor i in range(len(self.edgeslist)):\n",
        "\t\t\tprint(i,\" : \",self.edgeslist[i])\n",
        "\n",
        "\tdef DFS(self, s, V):\n",
        "\t\t\"\"\" Brows the graph using DFS, starting from vertice s\"\"\"\n",
        "\t\tif not V[s]:\n",
        "\t\t\tV[s] = 1\n",
        "\t\t\tfor n in self.edgeslist[s]:\n",
        "\t\t\t\tself.DFS(n,V)\n",
        "\n",
        "\t\treturn V\n",
        "\n",
        "\tdef Is_Connexe(self):\n",
        "\t\t\"\"\"method Is_Connexe, test if a graph connexe or not\n",
        "\t\tby browsing it using DFS \"\"\"\n",
        "\t\ta = 0\n",
        "\t\tV = [0]*len(self.edgeslist)\n",
        "\t\tV = self.DFS(a,V)\n",
        "\t\t\n",
        "\t\treturn all([x == 1 for x in V])"
      ],
      "execution_count": null,
      "outputs": []
    },
    {
      "cell_type": "markdown",
      "metadata": {
        "id": "w597S6p6gj3h"
      },
      "source": [
        "## **Testing**"
      ]
    },
    {
      "cell_type": "code",
      "metadata": {
        "id": "Rtq9YZiQPJ2W",
        "colab": {
          "base_uri": "https://localhost:8080/",
          "height": 105
        },
        "outputId": "45105ec3-e204-4868-a8c1-6c705678e4f7"
      },
      "source": [
        "Gl = GraphList()\n",
        "\n",
        "Gl.add_edge(0,1)\n",
        "Gl.add_edge(0,2)\n",
        "Gl.add_edge(0,3)\n",
        "Gl.add_edge(1,0)\n",
        "Gl.add_edge(1,2)\n",
        "Gl.add_edge(2,1)\n",
        "Gl.add_edge(3,0)\n",
        "\t\n",
        "Gl.print_graph()\n",
        "\n",
        "print (\"It is connexe\" if Gl.Is_Connexe() else \"No, it's not connexe\")"
      ],
      "execution_count": null,
      "outputs": [
        {
          "output_type": "stream",
          "text": [
            "0  :  [1, 2, 3]\n",
            "1  :  [0, 2]\n",
            "2  :  [1]\n",
            "3  :  [0]\n",
            "It is connexe\n"
          ],
          "name": "stdout"
        }
      ]
    },
    {
      "cell_type": "markdown",
      "metadata": {
        "id": "jotxaXwKQlh7"
      },
      "source": [
        "![alt text](https://drive.google.com/uc?id=1onjbfQ65a60iTdBj6ZEc4tOKpMOkiK1Z)"
      ]
    },
    {
      "cell_type": "markdown",
      "metadata": {
        "id": "_75TyLJx4iiZ"
      },
      "source": [
        "# Exercice\n",
        "\n",
        "Write a methode that gives the shortest path between two vertices."
      ]
    }
  ]
}